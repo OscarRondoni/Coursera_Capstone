{
  "nbformat": 4,
  "nbformat_minor": 0,
  "metadata": {
    "colab": {
      "name": "Capstone_07.ipynb",
      "provenance": [],
      "collapsed_sections": [],
      "authorship_tag": "ABX9TyOMCRBUBb5W/vYUZ8dAgSZL",
      "include_colab_link": true
    },
    "kernelspec": {
      "name": "python3",
      "display_name": "Python 3"
    }
  },
  "cells": [
    {
      "cell_type": "markdown",
      "metadata": {
        "id": "view-in-github",
        "colab_type": "text"
      },
      "source": [
        "<a href=\"https://colab.research.google.com/github/OscarRondoni/Coursera_Capstone/blob/master/Capstone_07.ipynb\" target=\"_parent\"><img src=\"https://colab.research.google.com/assets/colab-badge.svg\" alt=\"Open In Colab\"/></a>"
      ]
    },
    {
      "cell_type": "markdown",
      "metadata": {
        "id": "gWv4FLvh7Bgm",
        "colab_type": "text"
      },
      "source": [
        "# Predicción de los accidentes en Catalunya entre los años 2010-2018 mediante Machine learning"
      ]
    },
    {
      "cell_type": "code",
      "metadata": {
        "id": "7CYqs1Ys6_pr",
        "colab_type": "code",
        "colab": {}
      },
      "source": [
        "#import libraries\n",
        "import pandas as pd\n",
        "import numpy as np\n",
        "import matplotlib.pyplot as plt\n",
        "import seaborn as sns\n"
      ],
      "execution_count": 85,
      "outputs": []
    },
    {
      "cell_type": "code",
      "metadata": {
        "id": "Ps0H0O907ioz",
        "colab_type": "code",
        "colab": {
          "base_uri": "https://localhost:8080/",
          "height": 394
        },
        "outputId": "f56bf7a4-acb2-45fb-b287-69d7224bb20b"
      },
      "source": [
        "#import data\n",
        "data=pd.read_csv('https://analisi.transparenciacatalunya.cat/api/views/rmgc-ncpb/rows.csv?accessType=DOWNLOAD&sorting=true')\n",
        "data.head(4)"
      ],
      "execution_count": 86,
      "outputs": [
        {
          "output_type": "execute_result",
          "data": {
            "text/html": [
              "<div>\n",
              "<style scoped>\n",
              "    .dataframe tbody tr th:only-of-type {\n",
              "        vertical-align: middle;\n",
              "    }\n",
              "\n",
              "    .dataframe tbody tr th {\n",
              "        vertical-align: top;\n",
              "    }\n",
              "\n",
              "    .dataframe thead th {\n",
              "        text-align: right;\n",
              "    }\n",
              "</style>\n",
              "<table border=\"1\" class=\"dataframe\">\n",
              "  <thead>\n",
              "    <tr style=\"text-align: right;\">\n",
              "      <th></th>\n",
              "      <th>Any</th>\n",
              "      <th>zona</th>\n",
              "      <th>dat</th>\n",
              "      <th>via</th>\n",
              "      <th>pk</th>\n",
              "      <th>nomMun</th>\n",
              "      <th>nomCom</th>\n",
              "      <th>nomDem</th>\n",
              "      <th>F_MORTS</th>\n",
              "      <th>F_FERITS_GREUS</th>\n",
              "      <th>F_FERITS_LLEUS</th>\n",
              "      <th>F_VICTIMES</th>\n",
              "      <th>F_UNITATS_IMPLICADES</th>\n",
              "      <th>F_VIANANTS_IMPLICADES</th>\n",
              "      <th>F_BICICLETES_IMPLICADES</th>\n",
              "      <th>F_CICLOMOTORS_IMPLICADES</th>\n",
              "      <th>F_MOTOCICLETES_IMPLICADES</th>\n",
              "      <th>F_VEH_LLEUGERS_IMPLICADES</th>\n",
              "      <th>F_VEH_PESANTS_IMPLICADES</th>\n",
              "      <th>F_ALTRES_UNIT_IMPLICADES</th>\n",
              "      <th>F_UNIT_DESC_IMPLICADES</th>\n",
              "      <th>C_VELOCITAT_VIA</th>\n",
              "      <th>D_ACC_AMB_FUGA</th>\n",
              "      <th>D_BOIRA</th>\n",
              "      <th>D_CARACT_ENTORN</th>\n",
              "      <th>D_CARRIL_ESPECIAL</th>\n",
              "      <th>D_CIRCULACIO_MESURES_ESP</th>\n",
              "      <th>D_CLIMATOLOGIA</th>\n",
              "      <th>D_FUNC_ESP_VIA</th>\n",
              "      <th>D_GRAVETAT</th>\n",
              "      <th>D_INFLUIT_BOIRA</th>\n",
              "      <th>D_INFLUIT_CARACT_ENTORN</th>\n",
              "      <th>D_INFLUIT_CIRCULACIO</th>\n",
              "      <th>D_INFLUIT_ESTAT_CLIMA</th>\n",
              "      <th>D_INFLUIT_INTEN_VENT</th>\n",
              "      <th>D_INFLUIT_LLUMINOSITAT</th>\n",
              "      <th>D_INFLUIT_MESU_ESP</th>\n",
              "      <th>D_INFLUIT_OBJ_CALCADA</th>\n",
              "      <th>D_INFLUIT_SOLCS_RASES</th>\n",
              "      <th>D_INFLUIT_VISIBILITAT</th>\n",
              "      <th>D_INTER_SECCIO</th>\n",
              "      <th>D_LIMIT_VELOCITAT</th>\n",
              "      <th>D_LLUMINOSITAT</th>\n",
              "      <th>D_REGULACIO_PRIORITAT</th>\n",
              "      <th>D_SENTITS_VIA</th>\n",
              "      <th>D_SUBTIPUS_ACCIDENT</th>\n",
              "      <th>D_SUBTIPUS_TRAM</th>\n",
              "      <th>D_SUBZONA</th>\n",
              "      <th>D_SUPERFICIE</th>\n",
              "      <th>D_TIPUS_VIA</th>\n",
              "      <th>D_TITULARITAT_VIA</th>\n",
              "      <th>D_TRACAT_ALTIMETRIC</th>\n",
              "      <th>D_VENT</th>\n",
              "      <th>grupDiaLab</th>\n",
              "      <th>hor</th>\n",
              "      <th>grupHor</th>\n",
              "      <th>tipAcc</th>\n",
              "      <th>tipDia</th>\n",
              "    </tr>\n",
              "  </thead>\n",
              "  <tbody>\n",
              "    <tr>\n",
              "      <th>0</th>\n",
              "      <td>2010</td>\n",
              "      <td>Zona urbana</td>\n",
              "      <td>25/01/2010</td>\n",
              "      <td>SE</td>\n",
              "      <td>999999.0</td>\n",
              "      <td>CANOVES I SAMALUS</td>\n",
              "      <td>Valles Oriental</td>\n",
              "      <td>Barcelona</td>\n",
              "      <td>0</td>\n",
              "      <td>1</td>\n",
              "      <td>0</td>\n",
              "      <td>1</td>\n",
              "      <td>2</td>\n",
              "      <td>0</td>\n",
              "      <td>0</td>\n",
              "      <td>0</td>\n",
              "      <td>0</td>\n",
              "      <td>1</td>\n",
              "      <td>0</td>\n",
              "      <td>1</td>\n",
              "      <td>0</td>\n",
              "      <td>100.0</td>\n",
              "      <td>No</td>\n",
              "      <td>No n'hi ha</td>\n",
              "      <td>Desmunt</td>\n",
              "      <td>No n'hi ha</td>\n",
              "      <td>No n'hi ha</td>\n",
              "      <td>Bon temps</td>\n",
              "      <td>Sense funció especial</td>\n",
              "      <td>Accident greu</td>\n",
              "      <td>No</td>\n",
              "      <td>No</td>\n",
              "      <td>No</td>\n",
              "      <td>No</td>\n",
              "      <td>No</td>\n",
              "      <td>No</td>\n",
              "      <td>No</td>\n",
              "      <td>No</td>\n",
              "      <td>No</td>\n",
              "      <td>No</td>\n",
              "      <td>Arribant o eixint intersecció fins 50m</td>\n",
              "      <td>Genérica via</td>\n",
              "      <td>De nit, il·luminació artificial suficient</td>\n",
              "      <td>Sols norma prioritat de pas</td>\n",
              "      <td>Un sol sentit</td>\n",
              "      <td>Encalç</td>\n",
              "      <td>Intersecció en T o Y</td>\n",
              "      <td>Zona urbana</td>\n",
              "      <td>Sec i net</td>\n",
              "      <td>Via urbana( inclou carrer i carrer residencial)</td>\n",
              "      <td>NaN</td>\n",
              "      <td>NaN</td>\n",
              "      <td>Calma, vent molt suau</td>\n",
              "      <td>Feiners</td>\n",
              "      <td>2333</td>\n",
              "      <td>Nit</td>\n",
              "      <td>Col.lisió de vehicles en marxa</td>\n",
              "      <td>dill-dij</td>\n",
              "    </tr>\n",
              "    <tr>\n",
              "      <th>1</th>\n",
              "      <td>2010</td>\n",
              "      <td>Carretera</td>\n",
              "      <td>31/10/2010</td>\n",
              "      <td>N-240</td>\n",
              "      <td>999.0</td>\n",
              "      <td>LLEIDA</td>\n",
              "      <td>Segria</td>\n",
              "      <td>Lleida</td>\n",
              "      <td>0</td>\n",
              "      <td>1</td>\n",
              "      <td>3</td>\n",
              "      <td>4</td>\n",
              "      <td>1</td>\n",
              "      <td>0</td>\n",
              "      <td>0</td>\n",
              "      <td>0</td>\n",
              "      <td>0</td>\n",
              "      <td>1</td>\n",
              "      <td>0</td>\n",
              "      <td>0</td>\n",
              "      <td>0</td>\n",
              "      <td>40.0</td>\n",
              "      <td>No</td>\n",
              "      <td>No n'hi ha</td>\n",
              "      <td>A nivell</td>\n",
              "      <td>No n'hi ha</td>\n",
              "      <td>No n'hi ha</td>\n",
              "      <td>Bon temps</td>\n",
              "      <td>Sense funció especial</td>\n",
              "      <td>Accident greu</td>\n",
              "      <td>No</td>\n",
              "      <td>No</td>\n",
              "      <td>No</td>\n",
              "      <td>No</td>\n",
              "      <td>No</td>\n",
              "      <td>No</td>\n",
              "      <td>No</td>\n",
              "      <td>No</td>\n",
              "      <td>No</td>\n",
              "      <td>No</td>\n",
              "      <td>Dintre intersecció</td>\n",
              "      <td>Senyal velocitat</td>\n",
              "      <td>De nit, il·luminació artificial suficient</td>\n",
              "      <td>Senyal Stop o cedeix pas</td>\n",
              "      <td>Doble sentit</td>\n",
              "      <td>Resta sortides de via</td>\n",
              "      <td>Giratòria</td>\n",
              "      <td>Carretera</td>\n",
              "      <td>Sec i net</td>\n",
              "      <td>Carretera convencional</td>\n",
              "      <td>Estatal</td>\n",
              "      <td>Pla</td>\n",
              "      <td>Calma, vent molt suau</td>\n",
              "      <td>CapDeSetmana</td>\n",
              "      <td>1</td>\n",
              "      <td>Nit</td>\n",
              "      <td>Sortida de la calcada sense especificar</td>\n",
              "      <td>dg</td>\n",
              "    </tr>\n",
              "    <tr>\n",
              "      <th>2</th>\n",
              "      <td>2010</td>\n",
              "      <td>Carretera</td>\n",
              "      <td>17/05/2010</td>\n",
              "      <td>N-II</td>\n",
              "      <td>7087.0</td>\n",
              "      <td>FORNELLS DE LA SELVA</td>\n",
              "      <td>Girones</td>\n",
              "      <td>Girona</td>\n",
              "      <td>1</td>\n",
              "      <td>0</td>\n",
              "      <td>2</td>\n",
              "      <td>3</td>\n",
              "      <td>4</td>\n",
              "      <td>0</td>\n",
              "      <td>0</td>\n",
              "      <td>0</td>\n",
              "      <td>0</td>\n",
              "      <td>2</td>\n",
              "      <td>2</td>\n",
              "      <td>0</td>\n",
              "      <td>0</td>\n",
              "      <td>80.0</td>\n",
              "      <td>No</td>\n",
              "      <td>No n'hi ha</td>\n",
              "      <td>A nivell</td>\n",
              "      <td>No n'hi ha</td>\n",
              "      <td>No n'hi ha</td>\n",
              "      <td>Bon temps</td>\n",
              "      <td>Variant</td>\n",
              "      <td>Accident mortal</td>\n",
              "      <td>No</td>\n",
              "      <td>No</td>\n",
              "      <td>No</td>\n",
              "      <td>No</td>\n",
              "      <td>No</td>\n",
              "      <td>No</td>\n",
              "      <td>No</td>\n",
              "      <td>No</td>\n",
              "      <td>No</td>\n",
              "      <td>No</td>\n",
              "      <td>En secció</td>\n",
              "      <td>Senyal velocitat</td>\n",
              "      <td>De dia, dia clar</td>\n",
              "      <td>NaN</td>\n",
              "      <td>Doble sentit</td>\n",
              "      <td>Col·lisió frontal</td>\n",
              "      <td>NaN</td>\n",
              "      <td>Carretera</td>\n",
              "      <td>Sec i net</td>\n",
              "      <td>Carretera convencional</td>\n",
              "      <td>Estatal</td>\n",
              "      <td>Rampa o pendent</td>\n",
              "      <td>Calma, vent molt suau</td>\n",
              "      <td>Feiners</td>\n",
              "      <td>1527</td>\n",
              "      <td>Tarda</td>\n",
              "      <td>Col.lisió de vehicles en marxa</td>\n",
              "      <td>dill-dij</td>\n",
              "    </tr>\n",
              "    <tr>\n",
              "      <th>3</th>\n",
              "      <td>2010</td>\n",
              "      <td>Zona urbana</td>\n",
              "      <td>21/08/2010</td>\n",
              "      <td>SE</td>\n",
              "      <td>999999.0</td>\n",
              "      <td>BARCELONA</td>\n",
              "      <td>Barcelones</td>\n",
              "      <td>Barcelona</td>\n",
              "      <td>0</td>\n",
              "      <td>2</td>\n",
              "      <td>7</td>\n",
              "      <td>9</td>\n",
              "      <td>2</td>\n",
              "      <td>0</td>\n",
              "      <td>0</td>\n",
              "      <td>0</td>\n",
              "      <td>0</td>\n",
              "      <td>2</td>\n",
              "      <td>0</td>\n",
              "      <td>0</td>\n",
              "      <td>0</td>\n",
              "      <td>100.0</td>\n",
              "      <td>No</td>\n",
              "      <td>No n'hi ha</td>\n",
              "      <td>Sense Especificar</td>\n",
              "      <td>No n'hi ha</td>\n",
              "      <td>No n'hi ha</td>\n",
              "      <td>Bon temps</td>\n",
              "      <td>Sense funció especial</td>\n",
              "      <td>Accident greu</td>\n",
              "      <td>No</td>\n",
              "      <td>No</td>\n",
              "      <td>No</td>\n",
              "      <td>No</td>\n",
              "      <td>No</td>\n",
              "      <td>No</td>\n",
              "      <td>No</td>\n",
              "      <td>No</td>\n",
              "      <td>No</td>\n",
              "      <td>No</td>\n",
              "      <td>Dintre intersecció</td>\n",
              "      <td>Genérica via</td>\n",
              "      <td>De nit, il·luminació artificial suficient</td>\n",
              "      <td>Semàfor</td>\n",
              "      <td>Un sol sentit</td>\n",
              "      <td>Envestida (frontal lateral)</td>\n",
              "      <td>Encreuament o intersecció en X o +</td>\n",
              "      <td>Zona urbana</td>\n",
              "      <td>Sec i net</td>\n",
              "      <td>Via urbana( inclou carrer i carrer residencial)</td>\n",
              "      <td>NaN</td>\n",
              "      <td>NaN</td>\n",
              "      <td>Calma, vent molt suau</td>\n",
              "      <td>CapDeSetmana</td>\n",
              "      <td>223</td>\n",
              "      <td>Nit</td>\n",
              "      <td>Col.lisió de vehicles en marxa</td>\n",
              "      <td>dis</td>\n",
              "    </tr>\n",
              "  </tbody>\n",
              "</table>\n",
              "</div>"
            ],
            "text/plain": [
              "    Any         zona  ...                                   tipAcc    tipDia\n",
              "0  2010  Zona urbana  ...           Col.lisió de vehicles en marxa  dill-dij\n",
              "1  2010    Carretera  ...  Sortida de la calcada sense especificar        dg\n",
              "2  2010    Carretera  ...           Col.lisió de vehicles en marxa  dill-dij\n",
              "3  2010  Zona urbana  ...           Col.lisió de vehicles en marxa       dis\n",
              "\n",
              "[4 rows x 58 columns]"
            ]
          },
          "metadata": {
            "tags": []
          },
          "execution_count": 86
        }
      ]
    },
    {
      "cell_type": "code",
      "metadata": {
        "id": "mwUyTtTK7vIR",
        "colab_type": "code",
        "colab": {
          "base_uri": "https://localhost:8080/",
          "height": 35
        },
        "outputId": "8a556bad-4aa5-408d-ef2f-b505953d0a22"
      },
      "source": [
        "data.shape"
      ],
      "execution_count": 87,
      "outputs": [
        {
          "output_type": "execute_result",
          "data": {
            "text/plain": [
              "(16774, 58)"
            ]
          },
          "metadata": {
            "tags": []
          },
          "execution_count": 87
        }
      ]
    },
    {
      "cell_type": "code",
      "metadata": {
        "id": "F4n_eBegBX_s",
        "colab_type": "code",
        "colab": {
          "base_uri": "https://localhost:8080/",
          "height": 1000
        },
        "outputId": "db161986-5e87-4549-c068-a68dddbb8651"
      },
      "source": [
        "data.dtypes"
      ],
      "execution_count": 88,
      "outputs": [
        {
          "output_type": "execute_result",
          "data": {
            "text/plain": [
              "Any                            int64\n",
              "zona                          object\n",
              "dat                           object\n",
              "via                           object\n",
              "pk                           float64\n",
              "nomMun                        object\n",
              "nomCom                        object\n",
              "nomDem                        object\n",
              "F_MORTS                        int64\n",
              "F_FERITS_GREUS                 int64\n",
              "F_FERITS_LLEUS                 int64\n",
              "F_VICTIMES                     int64\n",
              "F_UNITATS_IMPLICADES           int64\n",
              "F_VIANANTS_IMPLICADES          int64\n",
              "F_BICICLETES_IMPLICADES        int64\n",
              "F_CICLOMOTORS_IMPLICADES       int64\n",
              "F_MOTOCICLETES_IMPLICADES      int64\n",
              "F_VEH_LLEUGERS_IMPLICADES      int64\n",
              "F_VEH_PESANTS_IMPLICADES       int64\n",
              "F_ALTRES_UNIT_IMPLICADES       int64\n",
              "F_UNIT_DESC_IMPLICADES         int64\n",
              "C_VELOCITAT_VIA              float64\n",
              "D_ACC_AMB_FUGA                object\n",
              "D_BOIRA                       object\n",
              "D_CARACT_ENTORN               object\n",
              "D_CARRIL_ESPECIAL             object\n",
              "D_CIRCULACIO_MESURES_ESP      object\n",
              "D_CLIMATOLOGIA                object\n",
              "D_FUNC_ESP_VIA                object\n",
              "D_GRAVETAT                    object\n",
              "D_INFLUIT_BOIRA               object\n",
              "D_INFLUIT_CARACT_ENTORN       object\n",
              "D_INFLUIT_CIRCULACIO          object\n",
              "D_INFLUIT_ESTAT_CLIMA         object\n",
              "D_INFLUIT_INTEN_VENT          object\n",
              "D_INFLUIT_LLUMINOSITAT        object\n",
              "D_INFLUIT_MESU_ESP            object\n",
              "D_INFLUIT_OBJ_CALCADA         object\n",
              "D_INFLUIT_SOLCS_RASES         object\n",
              "D_INFLUIT_VISIBILITAT         object\n",
              "D_INTER_SECCIO                object\n",
              "D_LIMIT_VELOCITAT             object\n",
              "D_LLUMINOSITAT                object\n",
              "D_REGULACIO_PRIORITAT         object\n",
              "D_SENTITS_VIA                 object\n",
              "D_SUBTIPUS_ACCIDENT           object\n",
              "D_SUBTIPUS_TRAM               object\n",
              "D_SUBZONA                     object\n",
              "D_SUPERFICIE                  object\n",
              "D_TIPUS_VIA                   object\n",
              "D_TITULARITAT_VIA             object\n",
              "D_TRACAT_ALTIMETRIC           object\n",
              "D_VENT                        object\n",
              "grupDiaLab                    object\n",
              "hor                            int64\n",
              "grupHor                       object\n",
              "tipAcc                        object\n",
              "tipDia                        object\n",
              "dtype: object"
            ]
          },
          "metadata": {
            "tags": []
          },
          "execution_count": 88
        }
      ]
    },
    {
      "cell_type": "code",
      "metadata": {
        "id": "3om3-LCpkaXu",
        "colab_type": "code",
        "colab": {}
      },
      "source": [
        "data.drop(['F_UNIT_DESC_IMPLICADES'],axis=1,inplace=True)"
      ],
      "execution_count": 89,
      "outputs": []
    },
    {
      "cell_type": "code",
      "metadata": {
        "id": "KNO2PU2bMmIg",
        "colab_type": "code",
        "colab": {
          "base_uri": "https://localhost:8080/",
          "height": 431
        },
        "outputId": "33d80451-1d15-43e5-9b59-c88b97d048bc"
      },
      "source": [
        "data.isnull()"
      ],
      "execution_count": 90,
      "outputs": [
        {
          "output_type": "execute_result",
          "data": {
            "text/html": [
              "<div>\n",
              "<style scoped>\n",
              "    .dataframe tbody tr th:only-of-type {\n",
              "        vertical-align: middle;\n",
              "    }\n",
              "\n",
              "    .dataframe tbody tr th {\n",
              "        vertical-align: top;\n",
              "    }\n",
              "\n",
              "    .dataframe thead th {\n",
              "        text-align: right;\n",
              "    }\n",
              "</style>\n",
              "<table border=\"1\" class=\"dataframe\">\n",
              "  <thead>\n",
              "    <tr style=\"text-align: right;\">\n",
              "      <th></th>\n",
              "      <th>Any</th>\n",
              "      <th>zona</th>\n",
              "      <th>dat</th>\n",
              "      <th>via</th>\n",
              "      <th>pk</th>\n",
              "      <th>nomMun</th>\n",
              "      <th>nomCom</th>\n",
              "      <th>nomDem</th>\n",
              "      <th>F_MORTS</th>\n",
              "      <th>F_FERITS_GREUS</th>\n",
              "      <th>F_FERITS_LLEUS</th>\n",
              "      <th>F_VICTIMES</th>\n",
              "      <th>F_UNITATS_IMPLICADES</th>\n",
              "      <th>F_VIANANTS_IMPLICADES</th>\n",
              "      <th>F_BICICLETES_IMPLICADES</th>\n",
              "      <th>F_CICLOMOTORS_IMPLICADES</th>\n",
              "      <th>F_MOTOCICLETES_IMPLICADES</th>\n",
              "      <th>F_VEH_LLEUGERS_IMPLICADES</th>\n",
              "      <th>F_VEH_PESANTS_IMPLICADES</th>\n",
              "      <th>F_ALTRES_UNIT_IMPLICADES</th>\n",
              "      <th>C_VELOCITAT_VIA</th>\n",
              "      <th>D_ACC_AMB_FUGA</th>\n",
              "      <th>D_BOIRA</th>\n",
              "      <th>D_CARACT_ENTORN</th>\n",
              "      <th>D_CARRIL_ESPECIAL</th>\n",
              "      <th>D_CIRCULACIO_MESURES_ESP</th>\n",
              "      <th>D_CLIMATOLOGIA</th>\n",
              "      <th>D_FUNC_ESP_VIA</th>\n",
              "      <th>D_GRAVETAT</th>\n",
              "      <th>D_INFLUIT_BOIRA</th>\n",
              "      <th>D_INFLUIT_CARACT_ENTORN</th>\n",
              "      <th>D_INFLUIT_CIRCULACIO</th>\n",
              "      <th>D_INFLUIT_ESTAT_CLIMA</th>\n",
              "      <th>D_INFLUIT_INTEN_VENT</th>\n",
              "      <th>D_INFLUIT_LLUMINOSITAT</th>\n",
              "      <th>D_INFLUIT_MESU_ESP</th>\n",
              "      <th>D_INFLUIT_OBJ_CALCADA</th>\n",
              "      <th>D_INFLUIT_SOLCS_RASES</th>\n",
              "      <th>D_INFLUIT_VISIBILITAT</th>\n",
              "      <th>D_INTER_SECCIO</th>\n",
              "      <th>D_LIMIT_VELOCITAT</th>\n",
              "      <th>D_LLUMINOSITAT</th>\n",
              "      <th>D_REGULACIO_PRIORITAT</th>\n",
              "      <th>D_SENTITS_VIA</th>\n",
              "      <th>D_SUBTIPUS_ACCIDENT</th>\n",
              "      <th>D_SUBTIPUS_TRAM</th>\n",
              "      <th>D_SUBZONA</th>\n",
              "      <th>D_SUPERFICIE</th>\n",
              "      <th>D_TIPUS_VIA</th>\n",
              "      <th>D_TITULARITAT_VIA</th>\n",
              "      <th>D_TRACAT_ALTIMETRIC</th>\n",
              "      <th>D_VENT</th>\n",
              "      <th>grupDiaLab</th>\n",
              "      <th>hor</th>\n",
              "      <th>grupHor</th>\n",
              "      <th>tipAcc</th>\n",
              "      <th>tipDia</th>\n",
              "    </tr>\n",
              "  </thead>\n",
              "  <tbody>\n",
              "    <tr>\n",
              "      <th>0</th>\n",
              "      <td>False</td>\n",
              "      <td>False</td>\n",
              "      <td>False</td>\n",
              "      <td>False</td>\n",
              "      <td>False</td>\n",
              "      <td>False</td>\n",
              "      <td>False</td>\n",
              "      <td>False</td>\n",
              "      <td>False</td>\n",
              "      <td>False</td>\n",
              "      <td>False</td>\n",
              "      <td>False</td>\n",
              "      <td>False</td>\n",
              "      <td>False</td>\n",
              "      <td>False</td>\n",
              "      <td>False</td>\n",
              "      <td>False</td>\n",
              "      <td>False</td>\n",
              "      <td>False</td>\n",
              "      <td>False</td>\n",
              "      <td>False</td>\n",
              "      <td>False</td>\n",
              "      <td>False</td>\n",
              "      <td>False</td>\n",
              "      <td>False</td>\n",
              "      <td>False</td>\n",
              "      <td>False</td>\n",
              "      <td>False</td>\n",
              "      <td>False</td>\n",
              "      <td>False</td>\n",
              "      <td>False</td>\n",
              "      <td>False</td>\n",
              "      <td>False</td>\n",
              "      <td>False</td>\n",
              "      <td>False</td>\n",
              "      <td>False</td>\n",
              "      <td>False</td>\n",
              "      <td>False</td>\n",
              "      <td>False</td>\n",
              "      <td>False</td>\n",
              "      <td>False</td>\n",
              "      <td>False</td>\n",
              "      <td>False</td>\n",
              "      <td>False</td>\n",
              "      <td>False</td>\n",
              "      <td>False</td>\n",
              "      <td>False</td>\n",
              "      <td>False</td>\n",
              "      <td>False</td>\n",
              "      <td>True</td>\n",
              "      <td>True</td>\n",
              "      <td>False</td>\n",
              "      <td>False</td>\n",
              "      <td>False</td>\n",
              "      <td>False</td>\n",
              "      <td>False</td>\n",
              "      <td>False</td>\n",
              "    </tr>\n",
              "    <tr>\n",
              "      <th>1</th>\n",
              "      <td>False</td>\n",
              "      <td>False</td>\n",
              "      <td>False</td>\n",
              "      <td>False</td>\n",
              "      <td>False</td>\n",
              "      <td>False</td>\n",
              "      <td>False</td>\n",
              "      <td>False</td>\n",
              "      <td>False</td>\n",
              "      <td>False</td>\n",
              "      <td>False</td>\n",
              "      <td>False</td>\n",
              "      <td>False</td>\n",
              "      <td>False</td>\n",
              "      <td>False</td>\n",
              "      <td>False</td>\n",
              "      <td>False</td>\n",
              "      <td>False</td>\n",
              "      <td>False</td>\n",
              "      <td>False</td>\n",
              "      <td>False</td>\n",
              "      <td>False</td>\n",
              "      <td>False</td>\n",
              "      <td>False</td>\n",
              "      <td>False</td>\n",
              "      <td>False</td>\n",
              "      <td>False</td>\n",
              "      <td>False</td>\n",
              "      <td>False</td>\n",
              "      <td>False</td>\n",
              "      <td>False</td>\n",
              "      <td>False</td>\n",
              "      <td>False</td>\n",
              "      <td>False</td>\n",
              "      <td>False</td>\n",
              "      <td>False</td>\n",
              "      <td>False</td>\n",
              "      <td>False</td>\n",
              "      <td>False</td>\n",
              "      <td>False</td>\n",
              "      <td>False</td>\n",
              "      <td>False</td>\n",
              "      <td>False</td>\n",
              "      <td>False</td>\n",
              "      <td>False</td>\n",
              "      <td>False</td>\n",
              "      <td>False</td>\n",
              "      <td>False</td>\n",
              "      <td>False</td>\n",
              "      <td>False</td>\n",
              "      <td>False</td>\n",
              "      <td>False</td>\n",
              "      <td>False</td>\n",
              "      <td>False</td>\n",
              "      <td>False</td>\n",
              "      <td>False</td>\n",
              "      <td>False</td>\n",
              "    </tr>\n",
              "    <tr>\n",
              "      <th>2</th>\n",
              "      <td>False</td>\n",
              "      <td>False</td>\n",
              "      <td>False</td>\n",
              "      <td>False</td>\n",
              "      <td>False</td>\n",
              "      <td>False</td>\n",
              "      <td>False</td>\n",
              "      <td>False</td>\n",
              "      <td>False</td>\n",
              "      <td>False</td>\n",
              "      <td>False</td>\n",
              "      <td>False</td>\n",
              "      <td>False</td>\n",
              "      <td>False</td>\n",
              "      <td>False</td>\n",
              "      <td>False</td>\n",
              "      <td>False</td>\n",
              "      <td>False</td>\n",
              "      <td>False</td>\n",
              "      <td>False</td>\n",
              "      <td>False</td>\n",
              "      <td>False</td>\n",
              "      <td>False</td>\n",
              "      <td>False</td>\n",
              "      <td>False</td>\n",
              "      <td>False</td>\n",
              "      <td>False</td>\n",
              "      <td>False</td>\n",
              "      <td>False</td>\n",
              "      <td>False</td>\n",
              "      <td>False</td>\n",
              "      <td>False</td>\n",
              "      <td>False</td>\n",
              "      <td>False</td>\n",
              "      <td>False</td>\n",
              "      <td>False</td>\n",
              "      <td>False</td>\n",
              "      <td>False</td>\n",
              "      <td>False</td>\n",
              "      <td>False</td>\n",
              "      <td>False</td>\n",
              "      <td>False</td>\n",
              "      <td>True</td>\n",
              "      <td>False</td>\n",
              "      <td>False</td>\n",
              "      <td>True</td>\n",
              "      <td>False</td>\n",
              "      <td>False</td>\n",
              "      <td>False</td>\n",
              "      <td>False</td>\n",
              "      <td>False</td>\n",
              "      <td>False</td>\n",
              "      <td>False</td>\n",
              "      <td>False</td>\n",
              "      <td>False</td>\n",
              "      <td>False</td>\n",
              "      <td>False</td>\n",
              "    </tr>\n",
              "    <tr>\n",
              "      <th>3</th>\n",
              "      <td>False</td>\n",
              "      <td>False</td>\n",
              "      <td>False</td>\n",
              "      <td>False</td>\n",
              "      <td>False</td>\n",
              "      <td>False</td>\n",
              "      <td>False</td>\n",
              "      <td>False</td>\n",
              "      <td>False</td>\n",
              "      <td>False</td>\n",
              "      <td>False</td>\n",
              "      <td>False</td>\n",
              "      <td>False</td>\n",
              "      <td>False</td>\n",
              "      <td>False</td>\n",
              "      <td>False</td>\n",
              "      <td>False</td>\n",
              "      <td>False</td>\n",
              "      <td>False</td>\n",
              "      <td>False</td>\n",
              "      <td>False</td>\n",
              "      <td>False</td>\n",
              "      <td>False</td>\n",
              "      <td>False</td>\n",
              "      <td>False</td>\n",
              "      <td>False</td>\n",
              "      <td>False</td>\n",
              "      <td>False</td>\n",
              "      <td>False</td>\n",
              "      <td>False</td>\n",
              "      <td>False</td>\n",
              "      <td>False</td>\n",
              "      <td>False</td>\n",
              "      <td>False</td>\n",
              "      <td>False</td>\n",
              "      <td>False</td>\n",
              "      <td>False</td>\n",
              "      <td>False</td>\n",
              "      <td>False</td>\n",
              "      <td>False</td>\n",
              "      <td>False</td>\n",
              "      <td>False</td>\n",
              "      <td>False</td>\n",
              "      <td>False</td>\n",
              "      <td>False</td>\n",
              "      <td>False</td>\n",
              "      <td>False</td>\n",
              "      <td>False</td>\n",
              "      <td>False</td>\n",
              "      <td>True</td>\n",
              "      <td>True</td>\n",
              "      <td>False</td>\n",
              "      <td>False</td>\n",
              "      <td>False</td>\n",
              "      <td>False</td>\n",
              "      <td>False</td>\n",
              "      <td>False</td>\n",
              "    </tr>\n",
              "    <tr>\n",
              "      <th>4</th>\n",
              "      <td>False</td>\n",
              "      <td>False</td>\n",
              "      <td>False</td>\n",
              "      <td>False</td>\n",
              "      <td>False</td>\n",
              "      <td>False</td>\n",
              "      <td>False</td>\n",
              "      <td>False</td>\n",
              "      <td>False</td>\n",
              "      <td>False</td>\n",
              "      <td>False</td>\n",
              "      <td>False</td>\n",
              "      <td>False</td>\n",
              "      <td>False</td>\n",
              "      <td>False</td>\n",
              "      <td>False</td>\n",
              "      <td>False</td>\n",
              "      <td>False</td>\n",
              "      <td>False</td>\n",
              "      <td>False</td>\n",
              "      <td>False</td>\n",
              "      <td>False</td>\n",
              "      <td>False</td>\n",
              "      <td>False</td>\n",
              "      <td>False</td>\n",
              "      <td>False</td>\n",
              "      <td>False</td>\n",
              "      <td>False</td>\n",
              "      <td>False</td>\n",
              "      <td>False</td>\n",
              "      <td>False</td>\n",
              "      <td>False</td>\n",
              "      <td>False</td>\n",
              "      <td>False</td>\n",
              "      <td>False</td>\n",
              "      <td>False</td>\n",
              "      <td>False</td>\n",
              "      <td>False</td>\n",
              "      <td>False</td>\n",
              "      <td>False</td>\n",
              "      <td>False</td>\n",
              "      <td>False</td>\n",
              "      <td>False</td>\n",
              "      <td>False</td>\n",
              "      <td>False</td>\n",
              "      <td>False</td>\n",
              "      <td>False</td>\n",
              "      <td>False</td>\n",
              "      <td>False</td>\n",
              "      <td>True</td>\n",
              "      <td>True</td>\n",
              "      <td>False</td>\n",
              "      <td>False</td>\n",
              "      <td>False</td>\n",
              "      <td>False</td>\n",
              "      <td>False</td>\n",
              "      <td>False</td>\n",
              "    </tr>\n",
              "    <tr>\n",
              "      <th>...</th>\n",
              "      <td>...</td>\n",
              "      <td>...</td>\n",
              "      <td>...</td>\n",
              "      <td>...</td>\n",
              "      <td>...</td>\n",
              "      <td>...</td>\n",
              "      <td>...</td>\n",
              "      <td>...</td>\n",
              "      <td>...</td>\n",
              "      <td>...</td>\n",
              "      <td>...</td>\n",
              "      <td>...</td>\n",
              "      <td>...</td>\n",
              "      <td>...</td>\n",
              "      <td>...</td>\n",
              "      <td>...</td>\n",
              "      <td>...</td>\n",
              "      <td>...</td>\n",
              "      <td>...</td>\n",
              "      <td>...</td>\n",
              "      <td>...</td>\n",
              "      <td>...</td>\n",
              "      <td>...</td>\n",
              "      <td>...</td>\n",
              "      <td>...</td>\n",
              "      <td>...</td>\n",
              "      <td>...</td>\n",
              "      <td>...</td>\n",
              "      <td>...</td>\n",
              "      <td>...</td>\n",
              "      <td>...</td>\n",
              "      <td>...</td>\n",
              "      <td>...</td>\n",
              "      <td>...</td>\n",
              "      <td>...</td>\n",
              "      <td>...</td>\n",
              "      <td>...</td>\n",
              "      <td>...</td>\n",
              "      <td>...</td>\n",
              "      <td>...</td>\n",
              "      <td>...</td>\n",
              "      <td>...</td>\n",
              "      <td>...</td>\n",
              "      <td>...</td>\n",
              "      <td>...</td>\n",
              "      <td>...</td>\n",
              "      <td>...</td>\n",
              "      <td>...</td>\n",
              "      <td>...</td>\n",
              "      <td>...</td>\n",
              "      <td>...</td>\n",
              "      <td>...</td>\n",
              "      <td>...</td>\n",
              "      <td>...</td>\n",
              "      <td>...</td>\n",
              "      <td>...</td>\n",
              "      <td>...</td>\n",
              "    </tr>\n",
              "    <tr>\n",
              "      <th>16769</th>\n",
              "      <td>False</td>\n",
              "      <td>False</td>\n",
              "      <td>False</td>\n",
              "      <td>False</td>\n",
              "      <td>False</td>\n",
              "      <td>False</td>\n",
              "      <td>False</td>\n",
              "      <td>False</td>\n",
              "      <td>False</td>\n",
              "      <td>False</td>\n",
              "      <td>False</td>\n",
              "      <td>False</td>\n",
              "      <td>False</td>\n",
              "      <td>False</td>\n",
              "      <td>False</td>\n",
              "      <td>False</td>\n",
              "      <td>False</td>\n",
              "      <td>False</td>\n",
              "      <td>False</td>\n",
              "      <td>False</td>\n",
              "      <td>False</td>\n",
              "      <td>False</td>\n",
              "      <td>False</td>\n",
              "      <td>False</td>\n",
              "      <td>False</td>\n",
              "      <td>False</td>\n",
              "      <td>False</td>\n",
              "      <td>False</td>\n",
              "      <td>False</td>\n",
              "      <td>False</td>\n",
              "      <td>False</td>\n",
              "      <td>False</td>\n",
              "      <td>False</td>\n",
              "      <td>False</td>\n",
              "      <td>False</td>\n",
              "      <td>False</td>\n",
              "      <td>False</td>\n",
              "      <td>False</td>\n",
              "      <td>False</td>\n",
              "      <td>False</td>\n",
              "      <td>False</td>\n",
              "      <td>False</td>\n",
              "      <td>True</td>\n",
              "      <td>False</td>\n",
              "      <td>False</td>\n",
              "      <td>False</td>\n",
              "      <td>False</td>\n",
              "      <td>False</td>\n",
              "      <td>False</td>\n",
              "      <td>True</td>\n",
              "      <td>True</td>\n",
              "      <td>False</td>\n",
              "      <td>False</td>\n",
              "      <td>False</td>\n",
              "      <td>False</td>\n",
              "      <td>False</td>\n",
              "      <td>False</td>\n",
              "    </tr>\n",
              "    <tr>\n",
              "      <th>16770</th>\n",
              "      <td>False</td>\n",
              "      <td>False</td>\n",
              "      <td>False</td>\n",
              "      <td>False</td>\n",
              "      <td>False</td>\n",
              "      <td>False</td>\n",
              "      <td>False</td>\n",
              "      <td>False</td>\n",
              "      <td>False</td>\n",
              "      <td>False</td>\n",
              "      <td>False</td>\n",
              "      <td>False</td>\n",
              "      <td>False</td>\n",
              "      <td>False</td>\n",
              "      <td>False</td>\n",
              "      <td>False</td>\n",
              "      <td>False</td>\n",
              "      <td>False</td>\n",
              "      <td>False</td>\n",
              "      <td>False</td>\n",
              "      <td>False</td>\n",
              "      <td>False</td>\n",
              "      <td>False</td>\n",
              "      <td>False</td>\n",
              "      <td>False</td>\n",
              "      <td>False</td>\n",
              "      <td>False</td>\n",
              "      <td>False</td>\n",
              "      <td>False</td>\n",
              "      <td>False</td>\n",
              "      <td>False</td>\n",
              "      <td>False</td>\n",
              "      <td>False</td>\n",
              "      <td>False</td>\n",
              "      <td>False</td>\n",
              "      <td>False</td>\n",
              "      <td>False</td>\n",
              "      <td>False</td>\n",
              "      <td>False</td>\n",
              "      <td>False</td>\n",
              "      <td>False</td>\n",
              "      <td>False</td>\n",
              "      <td>True</td>\n",
              "      <td>False</td>\n",
              "      <td>False</td>\n",
              "      <td>True</td>\n",
              "      <td>False</td>\n",
              "      <td>False</td>\n",
              "      <td>False</td>\n",
              "      <td>False</td>\n",
              "      <td>False</td>\n",
              "      <td>False</td>\n",
              "      <td>False</td>\n",
              "      <td>False</td>\n",
              "      <td>False</td>\n",
              "      <td>False</td>\n",
              "      <td>False</td>\n",
              "    </tr>\n",
              "    <tr>\n",
              "      <th>16771</th>\n",
              "      <td>False</td>\n",
              "      <td>False</td>\n",
              "      <td>False</td>\n",
              "      <td>False</td>\n",
              "      <td>False</td>\n",
              "      <td>False</td>\n",
              "      <td>False</td>\n",
              "      <td>False</td>\n",
              "      <td>False</td>\n",
              "      <td>False</td>\n",
              "      <td>False</td>\n",
              "      <td>False</td>\n",
              "      <td>False</td>\n",
              "      <td>False</td>\n",
              "      <td>False</td>\n",
              "      <td>False</td>\n",
              "      <td>False</td>\n",
              "      <td>False</td>\n",
              "      <td>False</td>\n",
              "      <td>False</td>\n",
              "      <td>False</td>\n",
              "      <td>False</td>\n",
              "      <td>False</td>\n",
              "      <td>False</td>\n",
              "      <td>False</td>\n",
              "      <td>False</td>\n",
              "      <td>False</td>\n",
              "      <td>False</td>\n",
              "      <td>False</td>\n",
              "      <td>False</td>\n",
              "      <td>False</td>\n",
              "      <td>False</td>\n",
              "      <td>False</td>\n",
              "      <td>False</td>\n",
              "      <td>False</td>\n",
              "      <td>False</td>\n",
              "      <td>False</td>\n",
              "      <td>False</td>\n",
              "      <td>False</td>\n",
              "      <td>False</td>\n",
              "      <td>False</td>\n",
              "      <td>False</td>\n",
              "      <td>True</td>\n",
              "      <td>False</td>\n",
              "      <td>False</td>\n",
              "      <td>True</td>\n",
              "      <td>False</td>\n",
              "      <td>False</td>\n",
              "      <td>False</td>\n",
              "      <td>True</td>\n",
              "      <td>False</td>\n",
              "      <td>False</td>\n",
              "      <td>False</td>\n",
              "      <td>False</td>\n",
              "      <td>False</td>\n",
              "      <td>False</td>\n",
              "      <td>False</td>\n",
              "    </tr>\n",
              "    <tr>\n",
              "      <th>16772</th>\n",
              "      <td>False</td>\n",
              "      <td>False</td>\n",
              "      <td>False</td>\n",
              "      <td>False</td>\n",
              "      <td>False</td>\n",
              "      <td>False</td>\n",
              "      <td>False</td>\n",
              "      <td>False</td>\n",
              "      <td>False</td>\n",
              "      <td>False</td>\n",
              "      <td>False</td>\n",
              "      <td>False</td>\n",
              "      <td>False</td>\n",
              "      <td>False</td>\n",
              "      <td>False</td>\n",
              "      <td>False</td>\n",
              "      <td>False</td>\n",
              "      <td>False</td>\n",
              "      <td>False</td>\n",
              "      <td>False</td>\n",
              "      <td>False</td>\n",
              "      <td>False</td>\n",
              "      <td>False</td>\n",
              "      <td>False</td>\n",
              "      <td>False</td>\n",
              "      <td>False</td>\n",
              "      <td>False</td>\n",
              "      <td>False</td>\n",
              "      <td>False</td>\n",
              "      <td>False</td>\n",
              "      <td>False</td>\n",
              "      <td>False</td>\n",
              "      <td>False</td>\n",
              "      <td>False</td>\n",
              "      <td>False</td>\n",
              "      <td>False</td>\n",
              "      <td>False</td>\n",
              "      <td>False</td>\n",
              "      <td>False</td>\n",
              "      <td>False</td>\n",
              "      <td>False</td>\n",
              "      <td>False</td>\n",
              "      <td>True</td>\n",
              "      <td>False</td>\n",
              "      <td>False</td>\n",
              "      <td>True</td>\n",
              "      <td>False</td>\n",
              "      <td>False</td>\n",
              "      <td>False</td>\n",
              "      <td>False</td>\n",
              "      <td>False</td>\n",
              "      <td>False</td>\n",
              "      <td>False</td>\n",
              "      <td>False</td>\n",
              "      <td>False</td>\n",
              "      <td>False</td>\n",
              "      <td>False</td>\n",
              "    </tr>\n",
              "    <tr>\n",
              "      <th>16773</th>\n",
              "      <td>False</td>\n",
              "      <td>False</td>\n",
              "      <td>False</td>\n",
              "      <td>False</td>\n",
              "      <td>False</td>\n",
              "      <td>False</td>\n",
              "      <td>False</td>\n",
              "      <td>False</td>\n",
              "      <td>False</td>\n",
              "      <td>False</td>\n",
              "      <td>False</td>\n",
              "      <td>False</td>\n",
              "      <td>False</td>\n",
              "      <td>False</td>\n",
              "      <td>False</td>\n",
              "      <td>False</td>\n",
              "      <td>False</td>\n",
              "      <td>False</td>\n",
              "      <td>False</td>\n",
              "      <td>False</td>\n",
              "      <td>True</td>\n",
              "      <td>False</td>\n",
              "      <td>False</td>\n",
              "      <td>False</td>\n",
              "      <td>False</td>\n",
              "      <td>False</td>\n",
              "      <td>False</td>\n",
              "      <td>False</td>\n",
              "      <td>False</td>\n",
              "      <td>False</td>\n",
              "      <td>False</td>\n",
              "      <td>False</td>\n",
              "      <td>False</td>\n",
              "      <td>False</td>\n",
              "      <td>False</td>\n",
              "      <td>False</td>\n",
              "      <td>False</td>\n",
              "      <td>False</td>\n",
              "      <td>False</td>\n",
              "      <td>False</td>\n",
              "      <td>False</td>\n",
              "      <td>False</td>\n",
              "      <td>True</td>\n",
              "      <td>False</td>\n",
              "      <td>False</td>\n",
              "      <td>True</td>\n",
              "      <td>False</td>\n",
              "      <td>False</td>\n",
              "      <td>False</td>\n",
              "      <td>True</td>\n",
              "      <td>False</td>\n",
              "      <td>False</td>\n",
              "      <td>False</td>\n",
              "      <td>False</td>\n",
              "      <td>False</td>\n",
              "      <td>False</td>\n",
              "      <td>False</td>\n",
              "    </tr>\n",
              "  </tbody>\n",
              "</table>\n",
              "<p>16774 rows × 57 columns</p>\n",
              "</div>"
            ],
            "text/plain": [
              "         Any   zona    dat    via  ...    hor  grupHor  tipAcc  tipDia\n",
              "0      False  False  False  False  ...  False    False   False   False\n",
              "1      False  False  False  False  ...  False    False   False   False\n",
              "2      False  False  False  False  ...  False    False   False   False\n",
              "3      False  False  False  False  ...  False    False   False   False\n",
              "4      False  False  False  False  ...  False    False   False   False\n",
              "...      ...    ...    ...    ...  ...    ...      ...     ...     ...\n",
              "16769  False  False  False  False  ...  False    False   False   False\n",
              "16770  False  False  False  False  ...  False    False   False   False\n",
              "16771  False  False  False  False  ...  False    False   False   False\n",
              "16772  False  False  False  False  ...  False    False   False   False\n",
              "16773  False  False  False  False  ...  False    False   False   False\n",
              "\n",
              "[16774 rows x 57 columns]"
            ]
          },
          "metadata": {
            "tags": []
          },
          "execution_count": 90
        }
      ]
    },
    {
      "cell_type": "code",
      "metadata": {
        "id": "IwK-0T2QMfDY",
        "colab_type": "code",
        "colab": {
          "base_uri": "https://localhost:8080/",
          "height": 1000
        },
        "outputId": "187b100f-9f3d-44b6-bc78-2c2758d43bea"
      },
      "source": [
        "data.isnull().sum()"
      ],
      "execution_count": 91,
      "outputs": [
        {
          "output_type": "execute_result",
          "data": {
            "text/plain": [
              "Any                              0\n",
              "zona                             0\n",
              "dat                              0\n",
              "via                              0\n",
              "pk                               1\n",
              "nomMun                           0\n",
              "nomCom                           0\n",
              "nomDem                           0\n",
              "F_MORTS                          0\n",
              "F_FERITS_GREUS                   0\n",
              "F_FERITS_LLEUS                   0\n",
              "F_VICTIMES                       0\n",
              "F_UNITATS_IMPLICADES             0\n",
              "F_VIANANTS_IMPLICADES            0\n",
              "F_BICICLETES_IMPLICADES          0\n",
              "F_CICLOMOTORS_IMPLICADES         0\n",
              "F_MOTOCICLETES_IMPLICADES        0\n",
              "F_VEH_LLEUGERS_IMPLICADES        0\n",
              "F_VEH_PESANTS_IMPLICADES         0\n",
              "F_ALTRES_UNIT_IMPLICADES         0\n",
              "C_VELOCITAT_VIA               2120\n",
              "D_ACC_AMB_FUGA                   0\n",
              "D_BOIRA                          0\n",
              "D_CARACT_ENTORN                 28\n",
              "D_CARRIL_ESPECIAL              832\n",
              "D_CIRCULACIO_MESURES_ESP        36\n",
              "D_CLIMATOLOGIA                   0\n",
              "D_FUNC_ESP_VIA                   0\n",
              "D_GRAVETAT                       0\n",
              "D_INFLUIT_BOIRA                  0\n",
              "D_INFLUIT_CARACT_ENTORN          0\n",
              "D_INFLUIT_CIRCULACIO             0\n",
              "D_INFLUIT_ESTAT_CLIMA            0\n",
              "D_INFLUIT_INTEN_VENT             0\n",
              "D_INFLUIT_LLUMINOSITAT           0\n",
              "D_INFLUIT_MESU_ESP               0\n",
              "D_INFLUIT_OBJ_CALCADA            0\n",
              "D_INFLUIT_SOLCS_RASES            0\n",
              "D_INFLUIT_VISIBILITAT            0\n",
              "D_INTER_SECCIO                   0\n",
              "D_LIMIT_VELOCITAT                0\n",
              "D_LLUMINOSITAT                   0\n",
              "D_REGULACIO_PRIORITAT        11647\n",
              "D_SENTITS_VIA                 2526\n",
              "D_SUBTIPUS_ACCIDENT              0\n",
              "D_SUBTIPUS_TRAM              11177\n",
              "D_SUBZONA                        0\n",
              "D_SUPERFICIE                     0\n",
              "D_TIPUS_VIA                      0\n",
              "D_TITULARITAT_VIA             8482\n",
              "D_TRACAT_ALTIMETRIC           6049\n",
              "D_VENT                           0\n",
              "grupDiaLab                       0\n",
              "hor                              0\n",
              "grupHor                          0\n",
              "tipAcc                           0\n",
              "tipDia                           0\n",
              "dtype: int64"
            ]
          },
          "metadata": {
            "tags": []
          },
          "execution_count": 91
        }
      ]
    },
    {
      "cell_type": "code",
      "metadata": {
        "id": "AjOK86bqkBz7",
        "colab_type": "code",
        "colab": {
          "base_uri": "https://localhost:8080/",
          "height": 266
        },
        "outputId": "81d2b313-8224-4d8d-bf09-96c5cde466cd"
      },
      "source": [
        "data.isna"
      ],
      "execution_count": 92,
      "outputs": [
        {
          "output_type": "execute_result",
          "data": {
            "text/plain": [
              "<bound method DataFrame.isna of         Any  ...    tipDia\n",
              "0      2010  ...  dill-dij\n",
              "1      2010  ...        dg\n",
              "2      2010  ...  dill-dij\n",
              "3      2010  ...       dis\n",
              "4      2010  ...       div\n",
              "...     ...  ...       ...\n",
              "16769  2018  ...  dill-dij\n",
              "16770  2018  ...  dill-dij\n",
              "16771  2018  ...        dg\n",
              "16772  2018  ...  dill-dij\n",
              "16773  2018  ...  dill-dij\n",
              "\n",
              "[16774 rows x 57 columns]>"
            ]
          },
          "metadata": {
            "tags": []
          },
          "execution_count": 92
        }
      ]
    },
    {
      "cell_type": "code",
      "metadata": {
        "id": "VpKw8RmH8Mxj",
        "colab_type": "code",
        "colab": {
          "base_uri": "https://localhost:8080/",
          "height": 311
        },
        "outputId": "ed5686f8-f05a-4aa3-df8c-b09ea0d6d90c"
      },
      "source": [
        "data.describe()"
      ],
      "execution_count": 93,
      "outputs": [
        {
          "output_type": "execute_result",
          "data": {
            "text/html": [
              "<div>\n",
              "<style scoped>\n",
              "    .dataframe tbody tr th:only-of-type {\n",
              "        vertical-align: middle;\n",
              "    }\n",
              "\n",
              "    .dataframe tbody tr th {\n",
              "        vertical-align: top;\n",
              "    }\n",
              "\n",
              "    .dataframe thead th {\n",
              "        text-align: right;\n",
              "    }\n",
              "</style>\n",
              "<table border=\"1\" class=\"dataframe\">\n",
              "  <thead>\n",
              "    <tr style=\"text-align: right;\">\n",
              "      <th></th>\n",
              "      <th>Any</th>\n",
              "      <th>pk</th>\n",
              "      <th>F_MORTS</th>\n",
              "      <th>F_FERITS_GREUS</th>\n",
              "      <th>F_FERITS_LLEUS</th>\n",
              "      <th>F_VICTIMES</th>\n",
              "      <th>F_UNITATS_IMPLICADES</th>\n",
              "      <th>F_VIANANTS_IMPLICADES</th>\n",
              "      <th>F_BICICLETES_IMPLICADES</th>\n",
              "      <th>F_CICLOMOTORS_IMPLICADES</th>\n",
              "      <th>F_MOTOCICLETES_IMPLICADES</th>\n",
              "      <th>F_VEH_LLEUGERS_IMPLICADES</th>\n",
              "      <th>F_VEH_PESANTS_IMPLICADES</th>\n",
              "      <th>F_ALTRES_UNIT_IMPLICADES</th>\n",
              "      <th>C_VELOCITAT_VIA</th>\n",
              "      <th>hor</th>\n",
              "    </tr>\n",
              "  </thead>\n",
              "  <tbody>\n",
              "    <tr>\n",
              "      <th>count</th>\n",
              "      <td>16774.000000</td>\n",
              "      <td>16773.000000</td>\n",
              "      <td>16774.000000</td>\n",
              "      <td>16774.000000</td>\n",
              "      <td>16774.000000</td>\n",
              "      <td>16774.000000</td>\n",
              "      <td>16774.000000</td>\n",
              "      <td>16774.000000</td>\n",
              "      <td>16774.000000</td>\n",
              "      <td>16774.000000</td>\n",
              "      <td>16774.000000</td>\n",
              "      <td>16774.000000</td>\n",
              "      <td>16774.000000</td>\n",
              "      <td>16774.000000</td>\n",
              "      <td>14654.000000</td>\n",
              "      <td>16774.000000</td>\n",
              "    </tr>\n",
              "    <tr>\n",
              "      <th>mean</th>\n",
              "      <td>2013.897580</td>\n",
              "      <td>523111.778811</td>\n",
              "      <td>0.139919</td>\n",
              "      <td>1.003219</td>\n",
              "      <td>0.407535</td>\n",
              "      <td>1.550674</td>\n",
              "      <td>1.893943</td>\n",
              "      <td>0.251401</td>\n",
              "      <td>0.082926</td>\n",
              "      <td>0.086622</td>\n",
              "      <td>0.392512</td>\n",
              "      <td>0.934482</td>\n",
              "      <td>0.127876</td>\n",
              "      <td>0.018123</td>\n",
              "      <td>136.754402</td>\n",
              "      <td>949.659533</td>\n",
              "    </tr>\n",
              "    <tr>\n",
              "      <th>std</th>\n",
              "      <td>2.567239</td>\n",
              "      <td>498936.376803</td>\n",
              "      <td>0.406867</td>\n",
              "      <td>0.540928</td>\n",
              "      <td>0.988399</td>\n",
              "      <td>1.225059</td>\n",
              "      <td>0.770062</td>\n",
              "      <td>0.501167</td>\n",
              "      <td>0.317953</td>\n",
              "      <td>0.287992</td>\n",
              "      <td>0.536160</td>\n",
              "      <td>0.806985</td>\n",
              "      <td>0.379740</td>\n",
              "      <td>0.138230</td>\n",
              "      <td>209.862794</td>\n",
              "      <td>740.394816</td>\n",
              "    </tr>\n",
              "    <tr>\n",
              "      <th>min</th>\n",
              "      <td>2010.000000</td>\n",
              "      <td>0.000000</td>\n",
              "      <td>0.000000</td>\n",
              "      <td>0.000000</td>\n",
              "      <td>0.000000</td>\n",
              "      <td>1.000000</td>\n",
              "      <td>1.000000</td>\n",
              "      <td>0.000000</td>\n",
              "      <td>0.000000</td>\n",
              "      <td>0.000000</td>\n",
              "      <td>0.000000</td>\n",
              "      <td>0.000000</td>\n",
              "      <td>0.000000</td>\n",
              "      <td>0.000000</td>\n",
              "      <td>0.000000</td>\n",
              "      <td>0.000000</td>\n",
              "    </tr>\n",
              "    <tr>\n",
              "      <th>25%</th>\n",
              "      <td>2012.000000</td>\n",
              "      <td>155.000000</td>\n",
              "      <td>0.000000</td>\n",
              "      <td>1.000000</td>\n",
              "      <td>0.000000</td>\n",
              "      <td>1.000000</td>\n",
              "      <td>1.000000</td>\n",
              "      <td>0.000000</td>\n",
              "      <td>0.000000</td>\n",
              "      <td>0.000000</td>\n",
              "      <td>0.000000</td>\n",
              "      <td>0.000000</td>\n",
              "      <td>0.000000</td>\n",
              "      <td>0.000000</td>\n",
              "      <td>80.000000</td>\n",
              "      <td>162.000000</td>\n",
              "    </tr>\n",
              "    <tr>\n",
              "      <th>50%</th>\n",
              "      <td>2014.000000</td>\n",
              "      <td>999999.000000</td>\n",
              "      <td>0.000000</td>\n",
              "      <td>1.000000</td>\n",
              "      <td>0.000000</td>\n",
              "      <td>1.000000</td>\n",
              "      <td>2.000000</td>\n",
              "      <td>0.000000</td>\n",
              "      <td>0.000000</td>\n",
              "      <td>0.000000</td>\n",
              "      <td>0.000000</td>\n",
              "      <td>1.000000</td>\n",
              "      <td>0.000000</td>\n",
              "      <td>0.000000</td>\n",
              "      <td>100.000000</td>\n",
              "      <td>1009.000000</td>\n",
              "    </tr>\n",
              "    <tr>\n",
              "      <th>75%</th>\n",
              "      <td>2016.000000</td>\n",
              "      <td>999999.000000</td>\n",
              "      <td>0.000000</td>\n",
              "      <td>1.000000</td>\n",
              "      <td>0.000000</td>\n",
              "      <td>2.000000</td>\n",
              "      <td>2.000000</td>\n",
              "      <td>0.000000</td>\n",
              "      <td>0.000000</td>\n",
              "      <td>0.000000</td>\n",
              "      <td>1.000000</td>\n",
              "      <td>1.000000</td>\n",
              "      <td>0.000000</td>\n",
              "      <td>0.000000</td>\n",
              "      <td>100.000000</td>\n",
              "      <td>1618.000000</td>\n",
              "    </tr>\n",
              "    <tr>\n",
              "      <th>max</th>\n",
              "      <td>2018.000000</td>\n",
              "      <td>999999.000000</td>\n",
              "      <td>13.000000</td>\n",
              "      <td>23.000000</td>\n",
              "      <td>22.000000</td>\n",
              "      <td>49.000000</td>\n",
              "      <td>21.000000</td>\n",
              "      <td>6.000000</td>\n",
              "      <td>8.000000</td>\n",
              "      <td>5.000000</td>\n",
              "      <td>7.000000</td>\n",
              "      <td>17.000000</td>\n",
              "      <td>6.000000</td>\n",
              "      <td>4.000000</td>\n",
              "      <td>999.000000</td>\n",
              "      <td>2359.000000</td>\n",
              "    </tr>\n",
              "  </tbody>\n",
              "</table>\n",
              "</div>"
            ],
            "text/plain": [
              "                Any             pk  ...  C_VELOCITAT_VIA           hor\n",
              "count  16774.000000   16773.000000  ...     14654.000000  16774.000000\n",
              "mean    2013.897580  523111.778811  ...       136.754402    949.659533\n",
              "std        2.567239  498936.376803  ...       209.862794    740.394816\n",
              "min     2010.000000       0.000000  ...         0.000000      0.000000\n",
              "25%     2012.000000     155.000000  ...        80.000000    162.000000\n",
              "50%     2014.000000  999999.000000  ...       100.000000   1009.000000\n",
              "75%     2016.000000  999999.000000  ...       100.000000   1618.000000\n",
              "max     2018.000000  999999.000000  ...       999.000000   2359.000000\n",
              "\n",
              "[8 rows x 16 columns]"
            ]
          },
          "metadata": {
            "tags": []
          },
          "execution_count": 93
        }
      ]
    },
    {
      "cell_type": "markdown",
      "metadata": {
        "id": "lY9pCUuMpie1",
        "colab_type": "text"
      },
      "source": [
        "I observed that the frequency of involvement of bicycles (0.082926) is similar to the frequency of mopeds (0.086622). The frequency of pedestrians 0.251401 The frequency of motorcycles 0.392512"
      ]
    },
    {
      "cell_type": "code",
      "metadata": {
        "id": "nzSczx-xT6R0",
        "colab_type": "code",
        "colab": {
          "base_uri": "https://localhost:8080/",
          "height": 554
        },
        "outputId": "bac9d1cb-e5e7-4d10-b619-688f70450f38"
      },
      "source": [
        "#Select numeric variables and correlation is made\n",
        "data.select_dtypes(include=[np.number]).dtypes\n",
        "get_numeric=data.select_dtypes(include=[np.number])\n",
        "get_numeric.corr()\n"
      ],
      "execution_count": 94,
      "outputs": [
        {
          "output_type": "execute_result",
          "data": {
            "text/html": [
              "<div>\n",
              "<style scoped>\n",
              "    .dataframe tbody tr th:only-of-type {\n",
              "        vertical-align: middle;\n",
              "    }\n",
              "\n",
              "    .dataframe tbody tr th {\n",
              "        vertical-align: top;\n",
              "    }\n",
              "\n",
              "    .dataframe thead th {\n",
              "        text-align: right;\n",
              "    }\n",
              "</style>\n",
              "<table border=\"1\" class=\"dataframe\">\n",
              "  <thead>\n",
              "    <tr style=\"text-align: right;\">\n",
              "      <th></th>\n",
              "      <th>Any</th>\n",
              "      <th>pk</th>\n",
              "      <th>F_MORTS</th>\n",
              "      <th>F_FERITS_GREUS</th>\n",
              "      <th>F_FERITS_LLEUS</th>\n",
              "      <th>F_VICTIMES</th>\n",
              "      <th>F_UNITATS_IMPLICADES</th>\n",
              "      <th>F_VIANANTS_IMPLICADES</th>\n",
              "      <th>F_BICICLETES_IMPLICADES</th>\n",
              "      <th>F_CICLOMOTORS_IMPLICADES</th>\n",
              "      <th>F_MOTOCICLETES_IMPLICADES</th>\n",
              "      <th>F_VEH_LLEUGERS_IMPLICADES</th>\n",
              "      <th>F_VEH_PESANTS_IMPLICADES</th>\n",
              "      <th>F_ALTRES_UNIT_IMPLICADES</th>\n",
              "      <th>C_VELOCITAT_VIA</th>\n",
              "      <th>hor</th>\n",
              "    </tr>\n",
              "  </thead>\n",
              "  <tbody>\n",
              "    <tr>\n",
              "      <th>Any</th>\n",
              "      <td>1.000000</td>\n",
              "      <td>-0.035901</td>\n",
              "      <td>-0.014419</td>\n",
              "      <td>-0.004657</td>\n",
              "      <td>-0.016914</td>\n",
              "      <td>-0.020491</td>\n",
              "      <td>-0.008661</td>\n",
              "      <td>-0.016223</td>\n",
              "      <td>0.027935</td>\n",
              "      <td>-0.066542</td>\n",
              "      <td>0.058185</td>\n",
              "      <td>-0.014952</td>\n",
              "      <td>-0.020261</td>\n",
              "      <td>0.002207</td>\n",
              "      <td>0.140510</td>\n",
              "      <td>0.095108</td>\n",
              "    </tr>\n",
              "    <tr>\n",
              "      <th>pk</th>\n",
              "      <td>-0.035901</td>\n",
              "      <td>1.000000</td>\n",
              "      <td>-0.166443</td>\n",
              "      <td>-0.051062</td>\n",
              "      <td>-0.164298</td>\n",
              "      <td>-0.210385</td>\n",
              "      <td>0.086260</td>\n",
              "      <td>0.329981</td>\n",
              "      <td>0.009933</td>\n",
              "      <td>0.130380</td>\n",
              "      <td>0.032200</td>\n",
              "      <td>-0.131547</td>\n",
              "      <td>-0.130277</td>\n",
              "      <td>-0.009387</td>\n",
              "      <td>-0.126390</td>\n",
              "      <td>-0.136181</td>\n",
              "    </tr>\n",
              "    <tr>\n",
              "      <th>F_MORTS</th>\n",
              "      <td>-0.014419</td>\n",
              "      <td>-0.166443</td>\n",
              "      <td>1.000000</td>\n",
              "      <td>-0.315199</td>\n",
              "      <td>0.073758</td>\n",
              "      <td>0.252452</td>\n",
              "      <td>0.047175</td>\n",
              "      <td>-0.034805</td>\n",
              "      <td>-0.033932</td>\n",
              "      <td>-0.070370</td>\n",
              "      <td>-0.072487</td>\n",
              "      <td>0.075133</td>\n",
              "      <td>0.165879</td>\n",
              "      <td>0.000493</td>\n",
              "      <td>-0.068932</td>\n",
              "      <td>0.029435</td>\n",
              "    </tr>\n",
              "    <tr>\n",
              "      <th>F_FERITS_GREUS</th>\n",
              "      <td>-0.004657</td>\n",
              "      <td>-0.051062</td>\n",
              "      <td>-0.315199</td>\n",
              "      <td>1.000000</td>\n",
              "      <td>0.135708</td>\n",
              "      <td>0.446360</td>\n",
              "      <td>0.099005</td>\n",
              "      <td>-0.036854</td>\n",
              "      <td>-0.019925</td>\n",
              "      <td>0.010839</td>\n",
              "      <td>-0.048349</td>\n",
              "      <td>0.188553</td>\n",
              "      <td>-0.070212</td>\n",
              "      <td>-0.011943</td>\n",
              "      <td>0.016186</td>\n",
              "      <td>0.002396</td>\n",
              "    </tr>\n",
              "    <tr>\n",
              "      <th>F_FERITS_LLEUS</th>\n",
              "      <td>-0.016914</td>\n",
              "      <td>-0.164298</td>\n",
              "      <td>0.073758</td>\n",
              "      <td>0.135708</td>\n",
              "      <td>1.000000</td>\n",
              "      <td>0.891236</td>\n",
              "      <td>0.265071</td>\n",
              "      <td>-0.058082</td>\n",
              "      <td>-0.053097</td>\n",
              "      <td>-0.047576</td>\n",
              "      <td>-0.097901</td>\n",
              "      <td>0.359971</td>\n",
              "      <td>0.069389</td>\n",
              "      <td>-0.003880</td>\n",
              "      <td>-0.024911</td>\n",
              "      <td>0.027269</td>\n",
              "    </tr>\n",
              "    <tr>\n",
              "      <th>F_VICTIMES</th>\n",
              "      <td>-0.020491</td>\n",
              "      <td>-0.210385</td>\n",
              "      <td>0.252452</td>\n",
              "      <td>0.446360</td>\n",
              "      <td>0.891236</td>\n",
              "      <td>1.000000</td>\n",
              "      <td>0.273248</td>\n",
              "      <td>-0.074694</td>\n",
              "      <td>-0.062907</td>\n",
              "      <td>-0.056970</td>\n",
              "      <td>-0.124411</td>\n",
              "      <td>0.398640</td>\n",
              "      <td>0.080074</td>\n",
              "      <td>-0.008240</td>\n",
              "      <td>-0.035824</td>\n",
              "      <td>0.032835</td>\n",
              "    </tr>\n",
              "    <tr>\n",
              "      <th>F_UNITATS_IMPLICADES</th>\n",
              "      <td>-0.008661</td>\n",
              "      <td>0.086260</td>\n",
              "      <td>0.047175</td>\n",
              "      <td>0.099005</td>\n",
              "      <td>0.265071</td>\n",
              "      <td>0.273248</td>\n",
              "      <td>1.000000</td>\n",
              "      <td>0.276099</td>\n",
              "      <td>0.048585</td>\n",
              "      <td>0.012125</td>\n",
              "      <td>0.020112</td>\n",
              "      <td>0.650705</td>\n",
              "      <td>0.201535</td>\n",
              "      <td>0.002376</td>\n",
              "      <td>-0.112411</td>\n",
              "      <td>0.004424</td>\n",
              "    </tr>\n",
              "    <tr>\n",
              "      <th>F_VIANANTS_IMPLICADES</th>\n",
              "      <td>-0.016223</td>\n",
              "      <td>0.329981</td>\n",
              "      <td>-0.034805</td>\n",
              "      <td>-0.036854</td>\n",
              "      <td>-0.058082</td>\n",
              "      <td>-0.074694</td>\n",
              "      <td>0.276099</td>\n",
              "      <td>1.000000</td>\n",
              "      <td>-0.096792</td>\n",
              "      <td>-0.116605</td>\n",
              "      <td>-0.259424</td>\n",
              "      <td>-0.073517</td>\n",
              "      <td>-0.057095</td>\n",
              "      <td>-0.029627</td>\n",
              "      <td>-0.077724</td>\n",
              "      <td>-0.032747</td>\n",
              "    </tr>\n",
              "    <tr>\n",
              "      <th>F_BICICLETES_IMPLICADES</th>\n",
              "      <td>0.027935</td>\n",
              "      <td>0.009933</td>\n",
              "      <td>-0.033932</td>\n",
              "      <td>-0.019925</td>\n",
              "      <td>-0.053097</td>\n",
              "      <td>-0.062907</td>\n",
              "      <td>0.048585</td>\n",
              "      <td>-0.096792</td>\n",
              "      <td>1.000000</td>\n",
              "      <td>-0.075196</td>\n",
              "      <td>-0.163668</td>\n",
              "      <td>-0.124281</td>\n",
              "      <td>-0.053762</td>\n",
              "      <td>-0.013849</td>\n",
              "      <td>0.067728</td>\n",
              "      <td>-0.017921</td>\n",
              "    </tr>\n",
              "    <tr>\n",
              "      <th>F_CICLOMOTORS_IMPLICADES</th>\n",
              "      <td>-0.066542</td>\n",
              "      <td>0.130380</td>\n",
              "      <td>-0.070370</td>\n",
              "      <td>0.010839</td>\n",
              "      <td>-0.047576</td>\n",
              "      <td>-0.056970</td>\n",
              "      <td>0.012125</td>\n",
              "      <td>-0.116605</td>\n",
              "      <td>-0.075196</td>\n",
              "      <td>1.000000</td>\n",
              "      <td>-0.164994</td>\n",
              "      <td>-0.098458</td>\n",
              "      <td>-0.064222</td>\n",
              "      <td>-0.028954</td>\n",
              "      <td>-0.040514</td>\n",
              "      <td>-0.000332</td>\n",
              "    </tr>\n",
              "    <tr>\n",
              "      <th>F_MOTOCICLETES_IMPLICADES</th>\n",
              "      <td>0.058185</td>\n",
              "      <td>0.032200</td>\n",
              "      <td>-0.072487</td>\n",
              "      <td>-0.048349</td>\n",
              "      <td>-0.097901</td>\n",
              "      <td>-0.124411</td>\n",
              "      <td>0.020112</td>\n",
              "      <td>-0.259424</td>\n",
              "      <td>-0.163668</td>\n",
              "      <td>-0.164994</td>\n",
              "      <td>1.000000</td>\n",
              "      <td>-0.279532</td>\n",
              "      <td>-0.145516</td>\n",
              "      <td>-0.074269</td>\n",
              "      <td>0.013340</td>\n",
              "      <td>0.006959</td>\n",
              "    </tr>\n",
              "    <tr>\n",
              "      <th>F_VEH_LLEUGERS_IMPLICADES</th>\n",
              "      <td>-0.014952</td>\n",
              "      <td>-0.131547</td>\n",
              "      <td>0.075133</td>\n",
              "      <td>0.188553</td>\n",
              "      <td>0.359971</td>\n",
              "      <td>0.398640</td>\n",
              "      <td>0.650705</td>\n",
              "      <td>-0.073517</td>\n",
              "      <td>-0.124281</td>\n",
              "      <td>-0.098458</td>\n",
              "      <td>-0.279532</td>\n",
              "      <td>1.000000</td>\n",
              "      <td>-0.103009</td>\n",
              "      <td>-0.088231</td>\n",
              "      <td>-0.069071</td>\n",
              "      <td>0.026453</td>\n",
              "    </tr>\n",
              "    <tr>\n",
              "      <th>F_VEH_PESANTS_IMPLICADES</th>\n",
              "      <td>-0.020261</td>\n",
              "      <td>-0.130277</td>\n",
              "      <td>0.165879</td>\n",
              "      <td>-0.070212</td>\n",
              "      <td>0.069389</td>\n",
              "      <td>0.080074</td>\n",
              "      <td>0.201535</td>\n",
              "      <td>-0.057095</td>\n",
              "      <td>-0.053762</td>\n",
              "      <td>-0.064222</td>\n",
              "      <td>-0.145516</td>\n",
              "      <td>-0.103009</td>\n",
              "      <td>1.000000</td>\n",
              "      <td>0.005822</td>\n",
              "      <td>-0.055833</td>\n",
              "      <td>-0.003113</td>\n",
              "    </tr>\n",
              "    <tr>\n",
              "      <th>F_ALTRES_UNIT_IMPLICADES</th>\n",
              "      <td>0.002207</td>\n",
              "      <td>-0.009387</td>\n",
              "      <td>0.000493</td>\n",
              "      <td>-0.011943</td>\n",
              "      <td>-0.003880</td>\n",
              "      <td>-0.008240</td>\n",
              "      <td>0.002376</td>\n",
              "      <td>-0.029627</td>\n",
              "      <td>-0.013849</td>\n",
              "      <td>-0.028954</td>\n",
              "      <td>-0.074269</td>\n",
              "      <td>-0.088231</td>\n",
              "      <td>0.005822</td>\n",
              "      <td>1.000000</td>\n",
              "      <td>0.076479</td>\n",
              "      <td>0.012410</td>\n",
              "    </tr>\n",
              "    <tr>\n",
              "      <th>C_VELOCITAT_VIA</th>\n",
              "      <td>0.140510</td>\n",
              "      <td>-0.126390</td>\n",
              "      <td>-0.068932</td>\n",
              "      <td>0.016186</td>\n",
              "      <td>-0.024911</td>\n",
              "      <td>-0.035824</td>\n",
              "      <td>-0.112411</td>\n",
              "      <td>-0.077724</td>\n",
              "      <td>0.067728</td>\n",
              "      <td>-0.040514</td>\n",
              "      <td>0.013340</td>\n",
              "      <td>-0.069071</td>\n",
              "      <td>-0.055833</td>\n",
              "      <td>0.076479</td>\n",
              "      <td>1.000000</td>\n",
              "      <td>0.080387</td>\n",
              "    </tr>\n",
              "    <tr>\n",
              "      <th>hor</th>\n",
              "      <td>0.095108</td>\n",
              "      <td>-0.136181</td>\n",
              "      <td>0.029435</td>\n",
              "      <td>0.002396</td>\n",
              "      <td>0.027269</td>\n",
              "      <td>0.032835</td>\n",
              "      <td>0.004424</td>\n",
              "      <td>-0.032747</td>\n",
              "      <td>-0.017921</td>\n",
              "      <td>-0.000332</td>\n",
              "      <td>0.006959</td>\n",
              "      <td>0.026453</td>\n",
              "      <td>-0.003113</td>\n",
              "      <td>0.012410</td>\n",
              "      <td>0.080387</td>\n",
              "      <td>1.000000</td>\n",
              "    </tr>\n",
              "  </tbody>\n",
              "</table>\n",
              "</div>"
            ],
            "text/plain": [
              "                                Any        pk  ...  C_VELOCITAT_VIA       hor\n",
              "Any                        1.000000 -0.035901  ...         0.140510  0.095108\n",
              "pk                        -0.035901  1.000000  ...        -0.126390 -0.136181\n",
              "F_MORTS                   -0.014419 -0.166443  ...        -0.068932  0.029435\n",
              "F_FERITS_GREUS            -0.004657 -0.051062  ...         0.016186  0.002396\n",
              "F_FERITS_LLEUS            -0.016914 -0.164298  ...        -0.024911  0.027269\n",
              "F_VICTIMES                -0.020491 -0.210385  ...        -0.035824  0.032835\n",
              "F_UNITATS_IMPLICADES      -0.008661  0.086260  ...        -0.112411  0.004424\n",
              "F_VIANANTS_IMPLICADES     -0.016223  0.329981  ...        -0.077724 -0.032747\n",
              "F_BICICLETES_IMPLICADES    0.027935  0.009933  ...         0.067728 -0.017921\n",
              "F_CICLOMOTORS_IMPLICADES  -0.066542  0.130380  ...        -0.040514 -0.000332\n",
              "F_MOTOCICLETES_IMPLICADES  0.058185  0.032200  ...         0.013340  0.006959\n",
              "F_VEH_LLEUGERS_IMPLICADES -0.014952 -0.131547  ...        -0.069071  0.026453\n",
              "F_VEH_PESANTS_IMPLICADES  -0.020261 -0.130277  ...        -0.055833 -0.003113\n",
              "F_ALTRES_UNIT_IMPLICADES   0.002207 -0.009387  ...         0.076479  0.012410\n",
              "C_VELOCITAT_VIA            0.140510 -0.126390  ...         1.000000  0.080387\n",
              "hor                        0.095108 -0.136181  ...         0.080387  1.000000\n",
              "\n",
              "[16 rows x 16 columns]"
            ]
          },
          "metadata": {
            "tags": []
          },
          "execution_count": 94
        }
      ]
    },
    {
      "cell_type": "code",
      "metadata": {
        "id": "0moZQvI3VmDI",
        "colab_type": "code",
        "colab": {
          "base_uri": "https://localhost:8080/",
          "height": 449
        },
        "outputId": "a7614dd6-4349-4c9f-ce67-352d9dca25ac"
      },
      "source": [
        "#heatmap\n",
        "sns.heatmap(get_numeric.corr(),cmap=\"YlOrRd\")"
      ],
      "execution_count": 95,
      "outputs": [
        {
          "output_type": "execute_result",
          "data": {
            "text/plain": [
              "<matplotlib.axes._subplots.AxesSubplot at 0x7fbced3da9e8>"
            ]
          },
          "metadata": {
            "tags": []
          },
          "execution_count": 95
        },
        {
          "output_type": "display_data",
          "data": {
            "image/png": "[encoded data removed]",
            "text/plain": [
              "<Figure size 432x288 with 2 Axes>"
            ]
          },
          "metadata": {
            "tags": []
          }
        }
      ]
    },
    {
      "cell_type": "markdown",
      "metadata": {
        "id": "lBmauokfjHgw",
        "colab_type": "text"
      },
      "source": [
        "It can be seen that the numerical variables that are highly correlated are Ferirs lleus amb victims. Which is obvious since they are dependent. It will be difficult to explain the variables"
      ]
    },
    {
      "cell_type": "code",
      "metadata": {
        "id": "qF334iNLjF32",
        "colab_type": "code",
        "colab": {
          "base_uri": "https://localhost:8080/",
          "height": 319
        },
        "outputId": "765458b0-dd07-4d96-a3b3-ac518d389f65"
      },
      "source": [
        "get_numeric.corr()['F_MORTS']"
      ],
      "execution_count": 96,
      "outputs": [
        {
          "output_type": "execute_result",
          "data": {
            "text/plain": [
              "Any                         -0.014419\n",
              "pk                          -0.166443\n",
              "F_MORTS                      1.000000\n",
              "F_FERITS_GREUS              -0.315199\n",
              "F_FERITS_LLEUS               0.073758\n",
              "F_VICTIMES                   0.252452\n",
              "F_UNITATS_IMPLICADES         0.047175\n",
              "F_VIANANTS_IMPLICADES       -0.034805\n",
              "F_BICICLETES_IMPLICADES     -0.033932\n",
              "F_CICLOMOTORS_IMPLICADES    -0.070370\n",
              "F_MOTOCICLETES_IMPLICADES   -0.072487\n",
              "F_VEH_LLEUGERS_IMPLICADES    0.075133\n",
              "F_VEH_PESANTS_IMPLICADES     0.165879\n",
              "F_ALTRES_UNIT_IMPLICADES     0.000493\n",
              "C_VELOCITAT_VIA             -0.068932\n",
              "hor                          0.029435\n",
              "Name: F_MORTS, dtype: float64"
            ]
          },
          "metadata": {
            "tags": []
          },
          "execution_count": 96
        }
      ]
    },
    {
      "cell_type": "code",
      "metadata": {
        "id": "Jmy6URsumkGE",
        "colab_type": "code",
        "colab": {
          "base_uri": "https://localhost:8080/",
          "height": 319
        },
        "outputId": "8ecd0e9c-f9ef-40f0-a18a-60d98a34a03a"
      },
      "source": [
        "mort_correlation=get_numeric.corr()['F_MORTS']\n",
        "type(mort_correlation)\n",
        "mort_correlation.sort_values(ascending=False)"
      ],
      "execution_count": 97,
      "outputs": [
        {
          "output_type": "execute_result",
          "data": {
            "text/plain": [
              "F_MORTS                      1.000000\n",
              "F_VICTIMES                   0.252452\n",
              "F_VEH_PESANTS_IMPLICADES     0.165879\n",
              "F_VEH_LLEUGERS_IMPLICADES    0.075133\n",
              "F_FERITS_LLEUS               0.073758\n",
              "F_UNITATS_IMPLICADES         0.047175\n",
              "hor                          0.029435\n",
              "F_ALTRES_UNIT_IMPLICADES     0.000493\n",
              "Any                         -0.014419\n",
              "F_BICICLETES_IMPLICADES     -0.033932\n",
              "F_VIANANTS_IMPLICADES       -0.034805\n",
              "C_VELOCITAT_VIA             -0.068932\n",
              "F_CICLOMOTORS_IMPLICADES    -0.070370\n",
              "F_MOTOCICLETES_IMPLICADES   -0.072487\n",
              "pk                          -0.166443\n",
              "F_FERITS_GREUS              -0.315199\n",
              "Name: F_MORTS, dtype: float64"
            ]
          },
          "metadata": {
            "tags": []
          },
          "execution_count": 97
        }
      ]
    },
    {
      "cell_type": "markdown",
      "metadata": {
        "id": "zVhp1kaFnRQd",
        "colab_type": "text"
      },
      "source": [
        "The possible numerical explanatory variable to the target 'MORTS' could be the one with the highest correlation: 'F_VICTIMES'. It seems logical."
      ]
    },
    {
      "cell_type": "markdown",
      "metadata": {
        "id": "kkfLJX60E5mk",
        "colab_type": "text"
      },
      "source": [
        "# Represent the dead and injured as a function of time"
      ]
    },
    {
      "cell_type": "code",
      "metadata": {
        "id": "9hoqLgbRK4K3",
        "colab_type": "code",
        "colab": {
          "base_uri": "https://localhost:8080/",
          "height": 35
        },
        "outputId": "7f0af4d1-d5c0-488e-cf37-8e6997364f44"
      },
      "source": [
        "x=data['Any'].unique()\n",
        "x.shape"
      ],
      "execution_count": 98,
      "outputs": [
        {
          "output_type": "execute_result",
          "data": {
            "text/plain": [
              "(9,)"
            ]
          },
          "metadata": {
            "tags": []
          },
          "execution_count": 98
        }
      ]
    },
    {
      "cell_type": "code",
      "metadata": {
        "id": "KvwI-KXCJTMd",
        "colab_type": "code",
        "colab": {}
      },
      "source": [
        "y1=data.groupby(['Any'])['F_MORTS'].sum()\n",
        "y2=data.groupby(['Any'])['F_VICTIMES'].sum()\n",
        "y3=data.groupby(['Any'])['F_FERITS_GREUS'].sum()\n",
        "y4=data.groupby(['Any'])['F_FERITS_LLEUS'].sum()"
      ],
      "execution_count": 99,
      "outputs": []
    },
    {
      "cell_type": "code",
      "metadata": {
        "id": "mJbhI2HSGqxm",
        "colab_type": "code",
        "colab": {
          "base_uri": "https://localhost:8080/",
          "height": 627
        },
        "outputId": "0104668c-fa4e-483a-b2e8-7ccf3754cb21"
      },
      "source": [
        "# https://matplotlib.org/3.1.0/gallery/subplots_axes_and_figures/subplots_demo.html\n",
        "\n",
        "\n",
        "fig, axs = plt.subplots(2, 2,figsize=(10,10))\n",
        "axs[0, 0].plot(x, y1)\n",
        "axs[0, 0].set_title('F_MORTS')\n",
        "axs[0, 1].plot(x, y2, 'tab:orange')\n",
        "axs[0, 1].set_title('F_VICTIMES')\n",
        "axs[1, 0].plot(x, y3, 'tab:green')\n",
        "axs[1, 0].set_title('F_FERITS_GREUS')\n",
        "axs[1, 1].plot(x, y4, 'tab:red')\n",
        "axs[1, 1].set_title('F_FERITS_LLEUS')\n",
        "\n",
        "for ax in axs.flat:\n",
        "    ax.set(xlabel='x-labssssel', ylabel='y-labelffff')\n",
        "\n",
        "# Hide x labels and tick labels for top plots and y ticks for right plots.\n",
        "for ax in axs.flat:\n",
        "    ax.label_outer()"
      ],
      "execution_count": 100,
      "outputs": [
        {
          "output_type": "display_data",
          "data": {
            "image/png": "[encoded data removed]",
            "text/plain": [
              "<Figure size 720x720 with 4 Axes>"
            ]
          },
          "metadata": {
            "tags": []
          }
        }
      ]
    },
    {
      "cell_type": "markdown",
      "metadata": {
        "id": "pNTT4AuoBMXp",
        "colab_type": "text"
      },
      "source": [
        "It is observed that both deaths, victims and minor and serious accidents decrease over time"
      ]
    },
    {
      "cell_type": "markdown",
      "metadata": {
        "id": "vCEg4zrbXQke",
        "colab_type": "text"
      },
      "source": [
        "## Linear regression"
      ]
    },
    {
      "cell_type": "code",
      "metadata": {
        "id": "Vq0JNA2OXOfl",
        "colab_type": "code",
        "colab": {
          "base_uri": "https://localhost:8080/",
          "height": 357
        },
        "outputId": "22f77d07-14fb-4691-86a1-bf78f2804c74"
      },
      "source": [
        "width = 5\n",
        "height = 5\n",
        "plt.figure(figsize=(width, height))\n",
        "sns.regplot(x='F_VICTIMES', y='F_MORTS', data=data)\n",
        "plt.ylim(0,)"
      ],
      "execution_count": 101,
      "outputs": [
        {
          "output_type": "execute_result",
          "data": {
            "text/plain": [
              "(0.0, 13.65)"
            ]
          },
          "metadata": {
            "tags": []
          },
          "execution_count": 101
        },
        {
          "output_type": "display_data",
          "data": {
            "image/png": "[encoded data removed]",
            "text/plain": [
              "<Figure size 360x360 with 1 Axes>"
            ]
          },
          "metadata": {
            "tags": []
          }
        }
      ]
    },
    {
      "cell_type": "code",
      "metadata": {
        "id": "muyVsqNpZ95A",
        "colab_type": "code",
        "colab": {
          "base_uri": "https://localhost:8080/",
          "height": 141
        },
        "outputId": "f092b04c-4381-4974-ae1c-093337bb60ae"
      },
      "source": [
        "#Grouped by F_VICTIMES\n",
        "data.groupby(['F_VICTIMES'])['dat'].count().head()"
      ],
      "execution_count": 102,
      "outputs": [
        {
          "output_type": "execute_result",
          "data": {
            "text/plain": [
              "F_VICTIMES\n",
              "1    11689\n",
              "2     3098\n",
              "3      994\n",
              "4      485\n",
              "5      258\n",
              "Name: dat, dtype: int64"
            ]
          },
          "metadata": {
            "tags": []
          },
          "execution_count": 102
        }
      ]
    },
    {
      "cell_type": "code",
      "metadata": {
        "id": "rwBcQnXaa-bj",
        "colab_type": "code",
        "colab": {
          "base_uri": "https://localhost:8080/",
          "height": 35
        },
        "outputId": "eea33bfb-c02b-420e-c795-757c3d0a744f"
      },
      "source": [
        "from sklearn.linear_model import LinearRegression\n",
        "lm = LinearRegression()\n",
        "X = data[['F_VICTIMES']]\n",
        "Y = data['F_MORTS']\n",
        "lm.fit(X,Y)\n"
      ],
      "execution_count": 103,
      "outputs": [
        {
          "output_type": "execute_result",
          "data": {
            "text/plain": [
              "LinearRegression(copy_X=True, fit_intercept=True, n_jobs=None, normalize=False)"
            ]
          },
          "metadata": {
            "tags": []
          },
          "execution_count": 103
        }
      ]
    },
    {
      "cell_type": "code",
      "metadata": {
        "id": "6XYSgmkci-Z3",
        "colab_type": "code",
        "colab": {
          "base_uri": "https://localhost:8080/",
          "height": 35
        },
        "outputId": "25564c7a-1ea7-4aef-e7f3-fa853f1574f7"
      },
      "source": [
        "lm.coef_"
      ],
      "execution_count": 104,
      "outputs": [
        {
          "output_type": "execute_result",
          "data": {
            "text/plain": [
              "array([0.08384447])"
            ]
          },
          "metadata": {
            "tags": []
          },
          "execution_count": 104
        }
      ]
    },
    {
      "cell_type": "code",
      "metadata": {
        "id": "kq8f2roUjiXc",
        "colab_type": "code",
        "colab": {
          "base_uri": "https://localhost:8080/",
          "height": 35
        },
        "outputId": "850ca9d3-0ed3-4dd8-f957-28f67ad4da74"
      },
      "source": [
        "lm.intercept_"
      ],
      "execution_count": 105,
      "outputs": [
        {
          "output_type": "execute_result",
          "data": {
            "text/plain": [
              "0.009903505711555877"
            ]
          },
          "metadata": {
            "tags": []
          },
          "execution_count": 105
        }
      ]
    },
    {
      "cell_type": "code",
      "metadata": {
        "id": "cyOWhcAzjl2U",
        "colab_type": "code",
        "colab": {
          "base_uri": "https://localhost:8080/",
          "height": 35
        },
        "outputId": "310ce3b3-f1be-4a8e-c172-ba5ee1f98d38"
      },
      "source": [
        "print('MORTS =',lm.coef_[0],' * VICTIMES +',lm.intercept_)"
      ],
      "execution_count": 106,
      "outputs": [
        {
          "output_type": "stream",
          "text": [
            "MORTS = 0.08384447330723009  * VICTIMES + 0.009903505711555877\n"
          ],
          "name": "stdout"
        }
      ]
    },
    {
      "cell_type": "code",
      "metadata": {
        "id": "XaFu1PN6kIw3",
        "colab_type": "code",
        "colab": {
          "base_uri": "https://localhost:8080/",
          "height": 35
        },
        "outputId": "9563d070-4a90-4598-e283-32f1af04ac21"
      },
      "source": [
        "lm.score(X, Y)"
      ],
      "execution_count": 107,
      "outputs": [
        {
          "output_type": "execute_result",
          "data": {
            "text/plain": [
              "0.06373222047399818"
            ]
          },
          "metadata": {
            "tags": []
          },
          "execution_count": 107
        }
      ]
    },
    {
      "cell_type": "markdown",
      "metadata": {
        "id": "dVgYe1FoQGdI",
        "colab_type": "text"
      },
      "source": [
        "Conclusion: The number of victims does not explain the number of deaths"
      ]
    },
    {
      "cell_type": "markdown",
      "metadata": {
        "id": "2LXXEeePm-QX",
        "colab_type": "text"
      },
      "source": [
        "## Residual plot"
      ]
    },
    {
      "cell_type": "code",
      "metadata": {
        "id": "Dv_JBZ-Lm9Oh",
        "colab_type": "code",
        "colab": {
          "base_uri": "https://localhost:8080/",
          "height": 611
        },
        "outputId": "364f1ac7-83f5-483d-8e5f-beb16de911ad"
      },
      "source": [
        "width = 12\n",
        "height = 10\n",
        "plt.figure(figsize=(width, height))\n",
        "sns.residplot(data['F_VICTIMES'], data['F_MORTS'])\n",
        "plt.show()"
      ],
      "execution_count": 108,
      "outputs": [
        {
          "output_type": "display_data",
          "data": {
            "image/png": "[encoded data removed]",
            "text/plain": [
              "<Figure size 864x720 with 1 Axes>"
            ]
          },
          "metadata": {
            "tags": []
          }
        }
      ]
    },
    {
      "cell_type": "markdown",
      "metadata": {
        "id": "jgQRPxBgoH97",
        "colab_type": "text"
      },
      "source": [
        "El patrón de residuos es discreto. Creo que seria buena idea agrupar para que los patrones sean mas continuos.\n"
      ]
    },
    {
      "cell_type": "markdown",
      "metadata": {
        "id": "XO_4h-xUVQnK",
        "colab_type": "text"
      },
      "source": [
        "# Determinacion de Puntos Negros Catalunya"
      ]
    },
    {
      "cell_type": "code",
      "metadata": {
        "id": "gtHvOhZmlDeg",
        "colab_type": "code",
        "colab": {
          "base_uri": "https://localhost:8080/",
          "height": 248
        },
        "outputId": "5e3c491f-dc7d-463b-946b-a5be335e73d6"
      },
      "source": [
        " data.groupby(['via','pk'])['dat'].count()"
      ],
      "execution_count": 109,
      "outputs": [
        {
          "output_type": "execute_result",
          "data": {
            "text/plain": [
              "via      pk   \n",
              "A-2      444.0    1\n",
              "         447.0    2\n",
              "         448.0    1\n",
              "         459.0    1\n",
              "         461.0    1\n",
              "                 ..\n",
              "TV-7333  14.0     1\n",
              "TV-7421  7.0      1\n",
              "VM-4406  13.0     1\n",
              "gi-682   51.0     1\n",
              "         71.0     1\n",
              "Name: dat, Length: 6681, dtype: int64"
            ]
          },
          "metadata": {
            "tags": []
          },
          "execution_count": 109
        }
      ]
    },
    {
      "cell_type": "code",
      "metadata": {
        "id": "E6JNUowtQWRS",
        "colab_type": "code",
        "colab": {}
      },
      "source": [
        "#sorted(data.groupby(['via','pk'])['dat'].count())"
      ],
      "execution_count": 110,
      "outputs": []
    },
    {
      "cell_type": "code",
      "metadata": {
        "id": "Zv3MscQ7Rb1f",
        "colab_type": "code",
        "colab": {
          "base_uri": "https://localhost:8080/",
          "height": 291
        },
        "outputId": "8fec50db-fee4-447d-f63b-db8abad16c64"
      },
      "source": [
        "df_pn=data.groupby(['via','pk'])['dat'].count().to_frame()\n",
        "df_pn.iloc[1][0]\n",
        "df_pn.iloc[1,0]\n",
        "df_pn.iloc[:,0]>1\n",
        "df_pn[df_pn.iloc[:,0]>10]"
      ],
      "execution_count": 111,
      "outputs": [
        {
          "output_type": "execute_result",
          "data": {
            "text/html": [
              "<div>\n",
              "<style scoped>\n",
              "    .dataframe tbody tr th:only-of-type {\n",
              "        vertical-align: middle;\n",
              "    }\n",
              "\n",
              "    .dataframe tbody tr th {\n",
              "        vertical-align: top;\n",
              "    }\n",
              "\n",
              "    .dataframe thead th {\n",
              "        text-align: right;\n",
              "    }\n",
              "</style>\n",
              "<table border=\"1\" class=\"dataframe\">\n",
              "  <thead>\n",
              "    <tr style=\"text-align: right;\">\n",
              "      <th></th>\n",
              "      <th></th>\n",
              "      <th>dat</th>\n",
              "    </tr>\n",
              "    <tr>\n",
              "      <th>via</th>\n",
              "      <th>pk</th>\n",
              "      <th></th>\n",
              "    </tr>\n",
              "  </thead>\n",
              "  <tbody>\n",
              "    <tr>\n",
              "      <th rowspan=\"6\" valign=\"top\">CR</th>\n",
              "      <th>0.0</th>\n",
              "      <td>41</td>\n",
              "    </tr>\n",
              "    <tr>\n",
              "      <th>1.0</th>\n",
              "      <td>57</td>\n",
              "    </tr>\n",
              "    <tr>\n",
              "      <th>2.0</th>\n",
              "      <td>18</td>\n",
              "    </tr>\n",
              "    <tr>\n",
              "      <th>4.0</th>\n",
              "      <td>13</td>\n",
              "    </tr>\n",
              "    <tr>\n",
              "      <th>9.0</th>\n",
              "      <td>26</td>\n",
              "    </tr>\n",
              "    <tr>\n",
              "      <th>22.0</th>\n",
              "      <td>11</td>\n",
              "    </tr>\n",
              "    <tr>\n",
              "      <th>SE</th>\n",
              "      <th>999999.0</th>\n",
              "      <td>8765</td>\n",
              "    </tr>\n",
              "  </tbody>\n",
              "</table>\n",
              "</div>"
            ],
            "text/plain": [
              "               dat\n",
              "via pk            \n",
              "CR  0.0         41\n",
              "    1.0         57\n",
              "    2.0         18\n",
              "    4.0         13\n",
              "    9.0         26\n",
              "    22.0        11\n",
              "SE  999999.0  8765"
            ]
          },
          "metadata": {
            "tags": []
          },
          "execution_count": 111
        }
      ]
    },
    {
      "cell_type": "code",
      "metadata": {
        "id": "0QXiJWHDVVBq",
        "colab_type": "code",
        "colab": {
          "base_uri": "https://localhost:8080/",
          "height": 261
        },
        "outputId": "5d5d14db-c2d7-4a15-a3c7-a41ee5e85ea0"
      },
      "source": [
        "#No consideramos la ultima fila que representa el km 999999. Es absurdo\n",
        "type(df_pn[df_pn.iloc[:,0]>10]) #pandas.core.frame.DataFrame\n",
        "df_pn[df_pn.iloc[:,0]>10].iloc[0:6]\n",
        "#df_pn[df_pn.iloc[:,0]>10].shape"
      ],
      "execution_count": 112,
      "outputs": [
        {
          "output_type": "execute_result",
          "data": {
            "text/html": [
              "<div>\n",
              "<style scoped>\n",
              "    .dataframe tbody tr th:only-of-type {\n",
              "        vertical-align: middle;\n",
              "    }\n",
              "\n",
              "    .dataframe tbody tr th {\n",
              "        vertical-align: top;\n",
              "    }\n",
              "\n",
              "    .dataframe thead th {\n",
              "        text-align: right;\n",
              "    }\n",
              "</style>\n",
              "<table border=\"1\" class=\"dataframe\">\n",
              "  <thead>\n",
              "    <tr style=\"text-align: right;\">\n",
              "      <th></th>\n",
              "      <th></th>\n",
              "      <th>dat</th>\n",
              "    </tr>\n",
              "    <tr>\n",
              "      <th>via</th>\n",
              "      <th>pk</th>\n",
              "      <th></th>\n",
              "    </tr>\n",
              "  </thead>\n",
              "  <tbody>\n",
              "    <tr>\n",
              "      <th rowspan=\"6\" valign=\"top\">CR</th>\n",
              "      <th>0.0</th>\n",
              "      <td>41</td>\n",
              "    </tr>\n",
              "    <tr>\n",
              "      <th>1.0</th>\n",
              "      <td>57</td>\n",
              "    </tr>\n",
              "    <tr>\n",
              "      <th>2.0</th>\n",
              "      <td>18</td>\n",
              "    </tr>\n",
              "    <tr>\n",
              "      <th>4.0</th>\n",
              "      <td>13</td>\n",
              "    </tr>\n",
              "    <tr>\n",
              "      <th>9.0</th>\n",
              "      <td>26</td>\n",
              "    </tr>\n",
              "    <tr>\n",
              "      <th>22.0</th>\n",
              "      <td>11</td>\n",
              "    </tr>\n",
              "  </tbody>\n",
              "</table>\n",
              "</div>"
            ],
            "text/plain": [
              "          dat\n",
              "via pk       \n",
              "CR  0.0    41\n",
              "    1.0    57\n",
              "    2.0    18\n",
              "    4.0    13\n",
              "    9.0    26\n",
              "    22.0   11"
            ]
          },
          "metadata": {
            "tags": []
          },
          "execution_count": 112
        }
      ]
    },
    {
      "cell_type": "markdown",
      "metadata": {
        "id": "CRPqfx2TXaCF",
        "colab_type": "text"
      },
      "source": [
        "Conclusion: Se han encontrado 5 puntos negros donde se han producido mas de 10 accidentes-"
      ]
    },
    {
      "cell_type": "markdown",
      "metadata": {
        "id": "4hV9jR7iYOHh",
        "colab_type": "text"
      },
      "source": [
        "# Vamos a analizar si las variables categoricas son capaces de explicar el numero de victimas 'F-VICTIMES' realizado un ANOVA"
      ]
    },
    {
      "cell_type": "code",
      "metadata": {
        "id": "cNBH1d--qyqS",
        "colab_type": "code",
        "colab": {}
      },
      "source": [
        "#Normalizamos 'F_VICTIMES' dividiendo por el max\n",
        "data['F_VICTIMES'] = data['F_VICTIMES']/data['F_VICTIMES'].max()"
      ],
      "execution_count": 113,
      "outputs": []
    },
    {
      "cell_type": "code",
      "metadata": {
        "id": "7YAVGPRWbiQJ",
        "colab_type": "code",
        "colab": {
          "base_uri": "https://localhost:8080/",
          "height": 307
        },
        "outputId": "f1e2ac20-43fb-41ae-c7d4-25ae0953c84d"
      },
      "source": [
        "ax=sns.boxplot(x='Any', y='F_VICTIMES', data=data)\n",
        "ax.set(ylim=(0, 0.6))"
      ],
      "execution_count": 114,
      "outputs": [
        {
          "output_type": "execute_result",
          "data": {
            "text/plain": [
              "[(0.0, 0.6)]"
            ]
          },
          "metadata": {
            "tags": []
          },
          "execution_count": 114
        },
        {
          "output_type": "display_data",
          "data": {
            "image/png": "[encoded data removed]",
            "text/plain": [
              "<Figure size 432x288 with 1 Axes>"
            ]
          },
          "metadata": {
            "tags": []
          }
        }
      ]
    },
    {
      "cell_type": "code",
      "metadata": {
        "id": "keOJ_gQRc8wM",
        "colab_type": "code",
        "colab": {
          "base_uri": "https://localhost:8080/",
          "height": 307
        },
        "outputId": "6b3deba2-70e4-475b-8b6e-9f479749df89"
      },
      "source": [
        "ax=sns.boxplot(x='D_CLIMATOLOGIA', y='F_VICTIMES', data=data)\n",
        "ax.set(ylim=(0, 0.5))"
      ],
      "execution_count": 115,
      "outputs": [
        {
          "output_type": "execute_result",
          "data": {
            "text/plain": [
              "[(0.0, 0.5)]"
            ]
          },
          "metadata": {
            "tags": []
          },
          "execution_count": 115
        },
        {
          "output_type": "display_data",
          "data": {
            "image/png": "[encoded data removed]",
            "text/plain": [
              "<Figure size 432x288 with 1 Axes>"
            ]
          },
          "metadata": {
            "tags": []
          }
        }
      ]
    },
    {
      "cell_type": "code",
      "metadata": {
        "id": "zzSdg0wKdhHn",
        "colab_type": "code",
        "colab": {
          "base_uri": "https://localhost:8080/",
          "height": 307
        },
        "outputId": "8b71feb5-67da-49b4-a3ee-58f18f1a838c"
      },
      "source": [
        "ax=sns.boxplot(x='grupDiaLab', y='F_VICTIMES', data=data)\n",
        "#sns.plt.ylim(0, 20)\n",
        "\n",
        "# Set the `ylim`\n",
        "ax.set(ylim=(0, .1))\n",
        "\n",
        "# Show the plot\n",
        "#plt.show()"
      ],
      "execution_count": 116,
      "outputs": [
        {
          "output_type": "execute_result",
          "data": {
            "text/plain": [
              "[(0.0, 0.1)]"
            ]
          },
          "metadata": {
            "tags": []
          },
          "execution_count": 116
        },
        {
          "output_type": "display_data",
          "data": {
            "image/png": "[encoded data removed]",
            "text/plain": [
              "<Figure size 432x288 with 1 Axes>"
            ]
          },
          "metadata": {
            "tags": []
          }
        }
      ]
    },
    {
      "cell_type": "code",
      "metadata": {
        "id": "B0rjvmyMhnI_",
        "colab_type": "code",
        "colab": {
          "base_uri": "https://localhost:8080/",
          "height": 307
        },
        "outputId": "b69bdaf9-e679-4e91-bd1c-0339e0b2bde0"
      },
      "source": [
        "ax=sns.boxplot(x='D_BOIRA', y='F_VICTIMES', data=data)\n",
        "ax.set(ylim=(0, 5))"
      ],
      "execution_count": 117,
      "outputs": [
        {
          "output_type": "execute_result",
          "data": {
            "text/plain": [
              "[(0.0, 5.0)]"
            ]
          },
          "metadata": {
            "tags": []
          },
          "execution_count": 117
        },
        {
          "output_type": "display_data",
          "data": {
            "image/png": "[encoded data removed]",
            "text/plain": [
              "<Figure size 432x288 with 1 Axes>"
            ]
          },
          "metadata": {
            "tags": []
          }
        }
      ]
    },
    {
      "cell_type": "code",
      "metadata": {
        "id": "1Qshtd2ihwSQ",
        "colab_type": "code",
        "colab": {
          "base_uri": "https://localhost:8080/",
          "height": 307
        },
        "outputId": "d88e1efb-1427-47cf-acaf-b437eb34e68b"
      },
      "source": [
        "ax=sns.boxplot(x='zona', y='F_VICTIMES', data=data)\n",
        "ax.set(ylim=(0, 5))"
      ],
      "execution_count": 118,
      "outputs": [
        {
          "output_type": "execute_result",
          "data": {
            "text/plain": [
              "[(0.0, 5.0)]"
            ]
          },
          "metadata": {
            "tags": []
          },
          "execution_count": 118
        },
        {
          "output_type": "display_data",
          "data": {
            "image/png": "[encoded data removed]",
            "text/plain": [
              "<Figure size 432x288 with 1 Axes>"
            ]
          },
          "metadata": {
            "tags": []
          }
        }
      ]
    },
    {
      "cell_type": "code",
      "metadata": {
        "id": "QzIkYKTohzDf",
        "colab_type": "code",
        "colab": {
          "base_uri": "https://localhost:8080/",
          "height": 307
        },
        "outputId": "9a0dc328-ac7b-4366-800c-62595ff4e433"
      },
      "source": [
        "#https://www.datacamp.com/community/tutorials/seaborn-python-tutorial#scale\n",
        "ax=sns.boxplot(x='nomCom', y='F_VICTIMES',data=data)\n",
        "ax.set(ylim=(0, 0.6))\n"
      ],
      "execution_count": 119,
      "outputs": [
        {
          "output_type": "execute_result",
          "data": {
            "text/plain": [
              "[(0.0, 0.6)]"
            ]
          },
          "metadata": {
            "tags": []
          },
          "execution_count": 119
        },
        {
          "output_type": "display_data",
          "data": {
            "image/png": "[encoded data removed]",
            "text/plain": [
              "<Figure size 432x288 with 1 Axes>"
            ]
          },
          "metadata": {
            "tags": []
          }
        }
      ]
    },
    {
      "cell_type": "code",
      "metadata": {
        "id": "t2geQv_phz7E",
        "colab_type": "code",
        "colab": {
          "base_uri": "https://localhost:8080/",
          "height": 307
        },
        "outputId": "06ccce83-a6ad-4bad-b21a-9a894346b803"
      },
      "source": [
        "ax=sns.boxplot(x='nomDem', y='F_VICTIMES', data=data)\n",
        "ax.set(ylim=(0, .045))"
      ],
      "execution_count": 120,
      "outputs": [
        {
          "output_type": "execute_result",
          "data": {
            "text/plain": [
              "[(0.0, 0.045)]"
            ]
          },
          "metadata": {
            "tags": []
          },
          "execution_count": 120
        },
        {
          "output_type": "display_data",
          "data": {
            "image/png": "[encoded data removed]",
            "text/plain": [
              "<Figure size 432x288 with 1 Axes>"
            ]
          },
          "metadata": {
            "tags": []
          }
        }
      ]
    },
    {
      "cell_type": "code",
      "metadata": {
        "id": "dW6rrmllh1Bc",
        "colab_type": "code",
        "colab": {
          "base_uri": "https://localhost:8080/",
          "height": 307
        },
        "outputId": "36094b72-7734-4f6f-facb-ade1b85fa97b"
      },
      "source": [
        "ax=sns.boxplot(x='D_LIMIT_VELOCITAT', y='F_VICTIMES', data=data)\n",
        "ax.set(ylim=(0, .6))"
      ],
      "execution_count": 121,
      "outputs": [
        {
          "output_type": "execute_result",
          "data": {
            "text/plain": [
              "[(0.0, 0.6)]"
            ]
          },
          "metadata": {
            "tags": []
          },
          "execution_count": 121
        },
        {
          "output_type": "display_data",
          "data": {
            "image/png": "[encoded data removed]",
            "text/plain": [
              "<Figure size 432x288 with 1 Axes>"
            ]
          },
          "metadata": {
            "tags": []
          }
        }
      ]
    },
    {
      "cell_type": "code",
      "metadata": {
        "id": "RYLcnOllh0X8",
        "colab_type": "code",
        "colab": {
          "base_uri": "https://localhost:8080/",
          "height": 307
        },
        "outputId": "dfc9c09d-e2a2-43b8-87ec-a73244baf916"
      },
      "source": [
        "ax=sns.boxplot(x='D_SUBZONA', y='F_VICTIMES', data=data)\n",
        "ax.set(ylim=(0, 0.6))"
      ],
      "execution_count": 122,
      "outputs": [
        {
          "output_type": "execute_result",
          "data": {
            "text/plain": [
              "[(0.0, 0.6)]"
            ]
          },
          "metadata": {
            "tags": []
          },
          "execution_count": 122
        },
        {
          "output_type": "display_data",
          "data": {
            "image/png": "[encoded data removed]",
            "text/plain": [
              "<Figure size 432x288 with 1 Axes>"
            ]
          },
          "metadata": {
            "tags": []
          }
        }
      ]
    },
    {
      "cell_type": "code",
      "metadata": {
        "id": "6QXJbbL5hzrB",
        "colab_type": "code",
        "colab": {
          "base_uri": "https://localhost:8080/",
          "height": 307
        },
        "outputId": "20ac0bce-d290-4c3a-a37d-8c9f363997df"
      },
      "source": [
        "ax=sns.boxplot(x='D_SUPERFICIE', y='F_VICTIMES', data=data)\n",
        "ax.set(ylim=(0, .1))"
      ],
      "execution_count": 123,
      "outputs": [
        {
          "output_type": "execute_result",
          "data": {
            "text/plain": [
              "[(0.0, 0.1)]"
            ]
          },
          "metadata": {
            "tags": []
          },
          "execution_count": 123
        },
        {
          "output_type": "display_data",
          "data": {
            "image/png": "[encoded data removed]",
            "text/plain": [
              "<Figure size 432x288 with 1 Axes>"
            ]
          },
          "metadata": {
            "tags": []
          }
        }
      ]
    },
    {
      "cell_type": "code",
      "metadata": {
        "id": "g5-LoJ--hyuO",
        "colab_type": "code",
        "colab": {
          "base_uri": "https://localhost:8080/",
          "height": 307
        },
        "outputId": "25cc8d38-c5af-4351-9756-c5cbc1bfdc0a"
      },
      "source": [
        "ax=sns.boxplot(x='D_TIPUS_VIA', y='F_VICTIMES', data=data)\n",
        "ax.set(ylim=(0, .6))"
      ],
      "execution_count": 124,
      "outputs": [
        {
          "output_type": "execute_result",
          "data": {
            "text/plain": [
              "[(0.0, 0.6)]"
            ]
          },
          "metadata": {
            "tags": []
          },
          "execution_count": 124
        },
        {
          "output_type": "display_data",
          "data": {
            "image/png": "[encoded data removed]",
            "text/plain": [
              "<Figure size 432x288 with 1 Axes>"
            ]
          },
          "metadata": {
            "tags": []
          }
        }
      ]
    },
    {
      "cell_type": "code",
      "metadata": {
        "id": "C7KVF_cBldUh",
        "colab_type": "code",
        "colab": {
          "base_uri": "https://localhost:8080/",
          "height": 307
        },
        "outputId": "a083cde3-85b1-4dc6-eca1-e7c6f8db6ed7"
      },
      "source": [
        "ax=sns.boxplot(x='hor', y='F_VICTIMES', data=data)\n",
        "ax.set(ylim=(0, 1))"
      ],
      "execution_count": 125,
      "outputs": [
        {
          "output_type": "execute_result",
          "data": {
            "text/plain": [
              "[(0.0, 1.0)]"
            ]
          },
          "metadata": {
            "tags": []
          },
          "execution_count": 125
        },
        {
          "output_type": "display_data",
          "data": {
            "image/png": "[encoded data removed]",
            "text/plain": [
              "<Figure size 432x288 with 1 Axes>"
            ]
          },
          "metadata": {
            "tags": []
          }
        }
      ]
    },
    {
      "cell_type": "code",
      "metadata": {
        "id": "r74V2lFollLq",
        "colab_type": "code",
        "colab": {
          "base_uri": "https://localhost:8080/",
          "height": 307
        },
        "outputId": "29d1bd76-c813-4593-ae7d-581b18d0b255"
      },
      "source": [
        "ax=sns.boxplot(x='grupHor', y='F_VICTIMES', data=data)\n",
        "ax.set(ylim=(0, 1))"
      ],
      "execution_count": 126,
      "outputs": [
        {
          "output_type": "execute_result",
          "data": {
            "text/plain": [
              "[(0.0, 1.0)]"
            ]
          },
          "metadata": {
            "tags": []
          },
          "execution_count": 126
        },
        {
          "output_type": "display_data",
          "data": {
            "image/png": "[encoded data removed]",
            "text/plain": [
              "<Figure size 432x288 with 1 Axes>"
            ]
          },
          "metadata": {
            "tags": []
          }
        }
      ]
    },
    {
      "cell_type": "code",
      "metadata": {
        "id": "jIsvEUx9lpKw",
        "colab_type": "code",
        "colab": {
          "base_uri": "https://localhost:8080/",
          "height": 307
        },
        "outputId": "d11e8ab7-a32b-4449-851a-631e5482ef64"
      },
      "source": [
        "ax=sns.boxplot(x='tipDia', y='F_VICTIMES', data=data)\n",
        "ax.set(ylim=(0, 1))"
      ],
      "execution_count": 127,
      "outputs": [
        {
          "output_type": "execute_result",
          "data": {
            "text/plain": [
              "[(0.0, 1.0)]"
            ]
          },
          "metadata": {
            "tags": []
          },
          "execution_count": 127
        },
        {
          "output_type": "display_data",
          "data": {
            "image/png": "[encoded data removed]",
            "text/plain": [
              "<Figure size 432x288 with 1 Axes>"
            ]
          },
          "metadata": {
            "tags": []
          }
        }
      ]
    },
    {
      "cell_type": "code",
      "metadata": {
        "id": "JMjZx_rfhHbw",
        "colab_type": "code",
        "colab": {
          "base_uri": "https://localhost:8080/",
          "height": 426
        },
        "outputId": "e1dff303-372b-44d7-9573-a4dc585ecbb0"
      },
      "source": [
        "data.groupby(['F_VICTIMES'])['dat'].count()"
      ],
      "execution_count": 128,
      "outputs": [
        {
          "output_type": "execute_result",
          "data": {
            "text/plain": [
              "F_VICTIMES\n",
              "0.020408    11689\n",
              "0.040816     3098\n",
              "0.061224      994\n",
              "0.081633      485\n",
              "0.102041      258\n",
              "0.122449      122\n",
              "0.142857       54\n",
              "0.163265       35\n",
              "0.183673        9\n",
              "0.204082        7\n",
              "0.224490        5\n",
              "0.244898        4\n",
              "0.265306        3\n",
              "0.285714        3\n",
              "0.306122        1\n",
              "0.326531        1\n",
              "0.367347        1\n",
              "0.408163        1\n",
              "0.469388        1\n",
              "0.489796        2\n",
              "1.000000        1\n",
              "Name: dat, dtype: int64"
            ]
          },
          "metadata": {
            "tags": []
          },
          "execution_count": 128
        }
      ]
    },
    {
      "cell_type": "markdown",
      "metadata": {
        "id": "APa1lPGXg0N8",
        "colab_type": "text"
      },
      "source": [
        "# Graph showing 4 variables \"De CLIMATOLOGIA\", Bon temps Calamarsa Nevant Pluja weak Pluja forta Sense specify \"F_VICTIMES\""
      ]
    },
    {
      "cell_type": "code",
      "metadata": {
        "id": "Wpt2BsM4ofjB",
        "colab_type": "code",
        "colab": {
          "base_uri": "https://localhost:8080/",
          "height": 455
        },
        "outputId": "9d83c41c-6a78-4484-82c3-78829494240a"
      },
      "source": [
        "sns.set(style=\"white\")\n",
        "\n",
        "sns.relplot(x=\"D_CLIMATOLOGIA\", y=\"tipDia\", hue=\"grupHor\", size=\"F_VICTIMES\",\n",
        "            sizes=(0, 1000), alpha=1, palette=\"muted\",\n",
        "            height=6, data=data)\n"
      ],
      "execution_count": 129,
      "outputs": [
        {
          "output_type": "execute_result",
          "data": {
            "text/plain": [
              "<seaborn.axisgrid.FacetGrid at 0x7fbcefce56d8>"
            ]
          },
          "metadata": {
            "tags": []
          },
          "execution_count": 129
        },
        {
          "output_type": "display_data",
          "data": {
            "image/png": "[encoded data removed]",
            "text/plain": [
              "<Figure size 535.35x432 with 1 Axes>"
            ]
          },
          "metadata": {
            "tags": []
          }
        }
      ]
    },
    {
      "cell_type": "code",
      "metadata": {
        "id": "oBugXWPc6aGM",
        "colab_type": "code",
        "colab": {
          "base_uri": "https://localhost:8080/",
          "height": 455
        },
        "outputId": "7d12607f-c5d7-416a-ae15-a50388739a07"
      },
      "source": [
        "sns.set(style=\"white\")\n",
        "\n",
        "sns.relplot(x=\"D_CLIMATOLOGIA\", y=\"tipDia\",  size=\"F_VICTIMES\",\n",
        "            sizes=(0, 1000), alpha=1, palette=\"muted\",\n",
        "            height=6, data=data)"
      ],
      "execution_count": 130,
      "outputs": [
        {
          "output_type": "execute_result",
          "data": {
            "text/plain": [
              "<seaborn.axisgrid.FacetGrid at 0x7fbceec33eb8>"
            ]
          },
          "metadata": {
            "tags": []
          },
          "execution_count": 130
        },
        {
          "output_type": "display_data",
          "data": {
            "image/png": "[encoded data removed]",
            "text/plain": [
              "<Figure size 535.35x432 with 1 Axes>"
            ]
          },
          "metadata": {
            "tags": []
          }
        }
      ]
    },
    {
      "cell_type": "markdown",
      "metadata": {
        "id": "Zc0lFC1vAH9w",
        "colab_type": "text"
      },
      "source": [
        "# Next, dummy variables will be created for some categorical variables"
      ]
    },
    {
      "cell_type": "code",
      "metadata": {
        "id": "tETLLnCFAHPy",
        "colab_type": "code",
        "colab": {
          "base_uri": "https://localhost:8080/",
          "height": 411
        },
        "outputId": "a1215a07-bcfa-4b60-e8fc-391eeafaf070"
      },
      "source": [
        "dummy_clima = pd.get_dummies(data[\"D_CLIMATOLOGIA\"])\n",
        "dummy_clima"
      ],
      "execution_count": 131,
      "outputs": [
        {
          "output_type": "execute_result",
          "data": {
            "text/html": [
              "<div>\n",
              "<style scoped>\n",
              "    .dataframe tbody tr th:only-of-type {\n",
              "        vertical-align: middle;\n",
              "    }\n",
              "\n",
              "    .dataframe tbody tr th {\n",
              "        vertical-align: top;\n",
              "    }\n",
              "\n",
              "    .dataframe thead th {\n",
              "        text-align: right;\n",
              "    }\n",
              "</style>\n",
              "<table border=\"1\" class=\"dataframe\">\n",
              "  <thead>\n",
              "    <tr style=\"text-align: right;\">\n",
              "      <th></th>\n",
              "      <th>Bon temps</th>\n",
              "      <th>Calamarsa</th>\n",
              "      <th>Nevant</th>\n",
              "      <th>Pluja dèbil</th>\n",
              "      <th>Pluja forta</th>\n",
              "      <th>Sense especificar</th>\n",
              "    </tr>\n",
              "  </thead>\n",
              "  <tbody>\n",
              "    <tr>\n",
              "      <th>0</th>\n",
              "      <td>1</td>\n",
              "      <td>0</td>\n",
              "      <td>0</td>\n",
              "      <td>0</td>\n",
              "      <td>0</td>\n",
              "      <td>0</td>\n",
              "    </tr>\n",
              "    <tr>\n",
              "      <th>1</th>\n",
              "      <td>1</td>\n",
              "      <td>0</td>\n",
              "      <td>0</td>\n",
              "      <td>0</td>\n",
              "      <td>0</td>\n",
              "      <td>0</td>\n",
              "    </tr>\n",
              "    <tr>\n",
              "      <th>2</th>\n",
              "      <td>1</td>\n",
              "      <td>0</td>\n",
              "      <td>0</td>\n",
              "      <td>0</td>\n",
              "      <td>0</td>\n",
              "      <td>0</td>\n",
              "    </tr>\n",
              "    <tr>\n",
              "      <th>3</th>\n",
              "      <td>1</td>\n",
              "      <td>0</td>\n",
              "      <td>0</td>\n",
              "      <td>0</td>\n",
              "      <td>0</td>\n",
              "      <td>0</td>\n",
              "    </tr>\n",
              "    <tr>\n",
              "      <th>4</th>\n",
              "      <td>1</td>\n",
              "      <td>0</td>\n",
              "      <td>0</td>\n",
              "      <td>0</td>\n",
              "      <td>0</td>\n",
              "      <td>0</td>\n",
              "    </tr>\n",
              "    <tr>\n",
              "      <th>...</th>\n",
              "      <td>...</td>\n",
              "      <td>...</td>\n",
              "      <td>...</td>\n",
              "      <td>...</td>\n",
              "      <td>...</td>\n",
              "      <td>...</td>\n",
              "    </tr>\n",
              "    <tr>\n",
              "      <th>16769</th>\n",
              "      <td>1</td>\n",
              "      <td>0</td>\n",
              "      <td>0</td>\n",
              "      <td>0</td>\n",
              "      <td>0</td>\n",
              "      <td>0</td>\n",
              "    </tr>\n",
              "    <tr>\n",
              "      <th>16770</th>\n",
              "      <td>1</td>\n",
              "      <td>0</td>\n",
              "      <td>0</td>\n",
              "      <td>0</td>\n",
              "      <td>0</td>\n",
              "      <td>0</td>\n",
              "    </tr>\n",
              "    <tr>\n",
              "      <th>16771</th>\n",
              "      <td>1</td>\n",
              "      <td>0</td>\n",
              "      <td>0</td>\n",
              "      <td>0</td>\n",
              "      <td>0</td>\n",
              "      <td>0</td>\n",
              "    </tr>\n",
              "    <tr>\n",
              "      <th>16772</th>\n",
              "      <td>1</td>\n",
              "      <td>0</td>\n",
              "      <td>0</td>\n",
              "      <td>0</td>\n",
              "      <td>0</td>\n",
              "      <td>0</td>\n",
              "    </tr>\n",
              "    <tr>\n",
              "      <th>16773</th>\n",
              "      <td>1</td>\n",
              "      <td>0</td>\n",
              "      <td>0</td>\n",
              "      <td>0</td>\n",
              "      <td>0</td>\n",
              "      <td>0</td>\n",
              "    </tr>\n",
              "  </tbody>\n",
              "</table>\n",
              "<p>16774 rows × 6 columns</p>\n",
              "</div>"
            ],
            "text/plain": [
              "       Bon temps  Calamarsa  ...  Pluja forta  Sense especificar\n",
              "0              1          0  ...            0                  0\n",
              "1              1          0  ...            0                  0\n",
              "2              1          0  ...            0                  0\n",
              "3              1          0  ...            0                  0\n",
              "4              1          0  ...            0                  0\n",
              "...          ...        ...  ...          ...                ...\n",
              "16769          1          0  ...            0                  0\n",
              "16770          1          0  ...            0                  0\n",
              "16771          1          0  ...            0                  0\n",
              "16772          1          0  ...            0                  0\n",
              "16773          1          0  ...            0                  0\n",
              "\n",
              "[16774 rows x 6 columns]"
            ]
          },
          "metadata": {
            "tags": []
          },
          "execution_count": 131
        }
      ]
    },
    {
      "cell_type": "code",
      "metadata": {
        "id": "aqaMY3xoJYjV",
        "colab_type": "code",
        "colab": {
          "base_uri": "https://localhost:8080/",
          "height": 411
        },
        "outputId": "b77140a9-e424-44d8-dcb2-969fc10d8cac"
      },
      "source": [
        "dummy_clima.drop(['Bon temps','Sense especificar'],axis=1,inplace=True)\n",
        "dummy_clima"
      ],
      "execution_count": 132,
      "outputs": [
        {
          "output_type": "execute_result",
          "data": {
            "text/html": [
              "<div>\n",
              "<style scoped>\n",
              "    .dataframe tbody tr th:only-of-type {\n",
              "        vertical-align: middle;\n",
              "    }\n",
              "\n",
              "    .dataframe tbody tr th {\n",
              "        vertical-align: top;\n",
              "    }\n",
              "\n",
              "    .dataframe thead th {\n",
              "        text-align: right;\n",
              "    }\n",
              "</style>\n",
              "<table border=\"1\" class=\"dataframe\">\n",
              "  <thead>\n",
              "    <tr style=\"text-align: right;\">\n",
              "      <th></th>\n",
              "      <th>Calamarsa</th>\n",
              "      <th>Nevant</th>\n",
              "      <th>Pluja dèbil</th>\n",
              "      <th>Pluja forta</th>\n",
              "    </tr>\n",
              "  </thead>\n",
              "  <tbody>\n",
              "    <tr>\n",
              "      <th>0</th>\n",
              "      <td>0</td>\n",
              "      <td>0</td>\n",
              "      <td>0</td>\n",
              "      <td>0</td>\n",
              "    </tr>\n",
              "    <tr>\n",
              "      <th>1</th>\n",
              "      <td>0</td>\n",
              "      <td>0</td>\n",
              "      <td>0</td>\n",
              "      <td>0</td>\n",
              "    </tr>\n",
              "    <tr>\n",
              "      <th>2</th>\n",
              "      <td>0</td>\n",
              "      <td>0</td>\n",
              "      <td>0</td>\n",
              "      <td>0</td>\n",
              "    </tr>\n",
              "    <tr>\n",
              "      <th>3</th>\n",
              "      <td>0</td>\n",
              "      <td>0</td>\n",
              "      <td>0</td>\n",
              "      <td>0</td>\n",
              "    </tr>\n",
              "    <tr>\n",
              "      <th>4</th>\n",
              "      <td>0</td>\n",
              "      <td>0</td>\n",
              "      <td>0</td>\n",
              "      <td>0</td>\n",
              "    </tr>\n",
              "    <tr>\n",
              "      <th>...</th>\n",
              "      <td>...</td>\n",
              "      <td>...</td>\n",
              "      <td>...</td>\n",
              "      <td>...</td>\n",
              "    </tr>\n",
              "    <tr>\n",
              "      <th>16769</th>\n",
              "      <td>0</td>\n",
              "      <td>0</td>\n",
              "      <td>0</td>\n",
              "      <td>0</td>\n",
              "    </tr>\n",
              "    <tr>\n",
              "      <th>16770</th>\n",
              "      <td>0</td>\n",
              "      <td>0</td>\n",
              "      <td>0</td>\n",
              "      <td>0</td>\n",
              "    </tr>\n",
              "    <tr>\n",
              "      <th>16771</th>\n",
              "      <td>0</td>\n",
              "      <td>0</td>\n",
              "      <td>0</td>\n",
              "      <td>0</td>\n",
              "    </tr>\n",
              "    <tr>\n",
              "      <th>16772</th>\n",
              "      <td>0</td>\n",
              "      <td>0</td>\n",
              "      <td>0</td>\n",
              "      <td>0</td>\n",
              "    </tr>\n",
              "    <tr>\n",
              "      <th>16773</th>\n",
              "      <td>0</td>\n",
              "      <td>0</td>\n",
              "      <td>0</td>\n",
              "      <td>0</td>\n",
              "    </tr>\n",
              "  </tbody>\n",
              "</table>\n",
              "<p>16774 rows × 4 columns</p>\n",
              "</div>"
            ],
            "text/plain": [
              "       Calamarsa  Nevant  Pluja dèbil  Pluja forta\n",
              "0              0       0            0            0\n",
              "1              0       0            0            0\n",
              "2              0       0            0            0\n",
              "3              0       0            0            0\n",
              "4              0       0            0            0\n",
              "...          ...     ...          ...          ...\n",
              "16769          0       0            0            0\n",
              "16770          0       0            0            0\n",
              "16771          0       0            0            0\n",
              "16772          0       0            0            0\n",
              "16773          0       0            0            0\n",
              "\n",
              "[16774 rows x 4 columns]"
            ]
          },
          "metadata": {
            "tags": []
          },
          "execution_count": 132
        }
      ]
    },
    {
      "cell_type": "code",
      "metadata": {
        "id": "IulJPlOHJ_Lz",
        "colab_type": "code",
        "colab": {
          "base_uri": "https://localhost:8080/",
          "height": 411
        },
        "outputId": "7c563219-f30b-47fd-fb6d-62a614eec72e"
      },
      "source": [
        "dummy_hora = pd.get_dummies(data[\"grupHor\"])\n",
        "dummy_hora"
      ],
      "execution_count": 133,
      "outputs": [
        {
          "output_type": "execute_result",
          "data": {
            "text/html": [
              "<div>\n",
              "<style scoped>\n",
              "    .dataframe tbody tr th:only-of-type {\n",
              "        vertical-align: middle;\n",
              "    }\n",
              "\n",
              "    .dataframe tbody tr th {\n",
              "        vertical-align: top;\n",
              "    }\n",
              "\n",
              "    .dataframe thead th {\n",
              "        text-align: right;\n",
              "    }\n",
              "</style>\n",
              "<table border=\"1\" class=\"dataframe\">\n",
              "  <thead>\n",
              "    <tr style=\"text-align: right;\">\n",
              "      <th></th>\n",
              "      <th>Matí</th>\n",
              "      <th>Nit</th>\n",
              "      <th>Tarda</th>\n",
              "    </tr>\n",
              "  </thead>\n",
              "  <tbody>\n",
              "    <tr>\n",
              "      <th>0</th>\n",
              "      <td>0</td>\n",
              "      <td>1</td>\n",
              "      <td>0</td>\n",
              "    </tr>\n",
              "    <tr>\n",
              "      <th>1</th>\n",
              "      <td>0</td>\n",
              "      <td>1</td>\n",
              "      <td>0</td>\n",
              "    </tr>\n",
              "    <tr>\n",
              "      <th>2</th>\n",
              "      <td>0</td>\n",
              "      <td>0</td>\n",
              "      <td>1</td>\n",
              "    </tr>\n",
              "    <tr>\n",
              "      <th>3</th>\n",
              "      <td>0</td>\n",
              "      <td>1</td>\n",
              "      <td>0</td>\n",
              "    </tr>\n",
              "    <tr>\n",
              "      <th>4</th>\n",
              "      <td>0</td>\n",
              "      <td>0</td>\n",
              "      <td>1</td>\n",
              "    </tr>\n",
              "    <tr>\n",
              "      <th>...</th>\n",
              "      <td>...</td>\n",
              "      <td>...</td>\n",
              "      <td>...</td>\n",
              "    </tr>\n",
              "    <tr>\n",
              "      <th>16769</th>\n",
              "      <td>1</td>\n",
              "      <td>0</td>\n",
              "      <td>0</td>\n",
              "    </tr>\n",
              "    <tr>\n",
              "      <th>16770</th>\n",
              "      <td>0</td>\n",
              "      <td>1</td>\n",
              "      <td>0</td>\n",
              "    </tr>\n",
              "    <tr>\n",
              "      <th>16771</th>\n",
              "      <td>0</td>\n",
              "      <td>0</td>\n",
              "      <td>1</td>\n",
              "    </tr>\n",
              "    <tr>\n",
              "      <th>16772</th>\n",
              "      <td>1</td>\n",
              "      <td>0</td>\n",
              "      <td>0</td>\n",
              "    </tr>\n",
              "    <tr>\n",
              "      <th>16773</th>\n",
              "      <td>1</td>\n",
              "      <td>0</td>\n",
              "      <td>0</td>\n",
              "    </tr>\n",
              "  </tbody>\n",
              "</table>\n",
              "<p>16774 rows × 3 columns</p>\n",
              "</div>"
            ],
            "text/plain": [
              "       Matí  Nit  Tarda\n",
              "0         0    1      0\n",
              "1         0    1      0\n",
              "2         0    0      1\n",
              "3         0    1      0\n",
              "4         0    0      1\n",
              "...     ...  ...    ...\n",
              "16769     1    0      0\n",
              "16770     0    1      0\n",
              "16771     0    0      1\n",
              "16772     1    0      0\n",
              "16773     1    0      0\n",
              "\n",
              "[16774 rows x 3 columns]"
            ]
          },
          "metadata": {
            "tags": []
          },
          "execution_count": 133
        }
      ]
    },
    {
      "cell_type": "code",
      "metadata": {
        "id": "IWlXkvzYKdhj",
        "colab_type": "code",
        "colab": {}
      },
      "source": [
        "dummy_hora.drop(['Matí'],axis=1,inplace=True)\t"
      ],
      "execution_count": 134,
      "outputs": []
    },
    {
      "cell_type": "code",
      "metadata": {
        "id": "FtsyTTqpKp9V",
        "colab_type": "code",
        "colab": {
          "base_uri": "https://localhost:8080/",
          "height": 411
        },
        "outputId": "967ecc90-191b-4e56-f1a3-cdca417d09cb"
      },
      "source": [
        "dummy_dia = pd.get_dummies(data['tipDia'])\n",
        "dummy_dia"
      ],
      "execution_count": 135,
      "outputs": [
        {
          "output_type": "execute_result",
          "data": {
            "text/html": [
              "<div>\n",
              "<style scoped>\n",
              "    .dataframe tbody tr th:only-of-type {\n",
              "        vertical-align: middle;\n",
              "    }\n",
              "\n",
              "    .dataframe tbody tr th {\n",
              "        vertical-align: top;\n",
              "    }\n",
              "\n",
              "    .dataframe thead th {\n",
              "        text-align: right;\n",
              "    }\n",
              "</style>\n",
              "<table border=\"1\" class=\"dataframe\">\n",
              "  <thead>\n",
              "    <tr style=\"text-align: right;\">\n",
              "      <th></th>\n",
              "      <th>dg</th>\n",
              "      <th>dill-dij</th>\n",
              "      <th>dis</th>\n",
              "      <th>div</th>\n",
              "    </tr>\n",
              "  </thead>\n",
              "  <tbody>\n",
              "    <tr>\n",
              "      <th>0</th>\n",
              "      <td>0</td>\n",
              "      <td>1</td>\n",
              "      <td>0</td>\n",
              "      <td>0</td>\n",
              "    </tr>\n",
              "    <tr>\n",
              "      <th>1</th>\n",
              "      <td>1</td>\n",
              "      <td>0</td>\n",
              "      <td>0</td>\n",
              "      <td>0</td>\n",
              "    </tr>\n",
              "    <tr>\n",
              "      <th>2</th>\n",
              "      <td>0</td>\n",
              "      <td>1</td>\n",
              "      <td>0</td>\n",
              "      <td>0</td>\n",
              "    </tr>\n",
              "    <tr>\n",
              "      <th>3</th>\n",
              "      <td>0</td>\n",
              "      <td>0</td>\n",
              "      <td>1</td>\n",
              "      <td>0</td>\n",
              "    </tr>\n",
              "    <tr>\n",
              "      <th>4</th>\n",
              "      <td>0</td>\n",
              "      <td>0</td>\n",
              "      <td>0</td>\n",
              "      <td>1</td>\n",
              "    </tr>\n",
              "    <tr>\n",
              "      <th>...</th>\n",
              "      <td>...</td>\n",
              "      <td>...</td>\n",
              "      <td>...</td>\n",
              "      <td>...</td>\n",
              "    </tr>\n",
              "    <tr>\n",
              "      <th>16769</th>\n",
              "      <td>0</td>\n",
              "      <td>1</td>\n",
              "      <td>0</td>\n",
              "      <td>0</td>\n",
              "    </tr>\n",
              "    <tr>\n",
              "      <th>16770</th>\n",
              "      <td>0</td>\n",
              "      <td>1</td>\n",
              "      <td>0</td>\n",
              "      <td>0</td>\n",
              "    </tr>\n",
              "    <tr>\n",
              "      <th>16771</th>\n",
              "      <td>1</td>\n",
              "      <td>0</td>\n",
              "      <td>0</td>\n",
              "      <td>0</td>\n",
              "    </tr>\n",
              "    <tr>\n",
              "      <th>16772</th>\n",
              "      <td>0</td>\n",
              "      <td>1</td>\n",
              "      <td>0</td>\n",
              "      <td>0</td>\n",
              "    </tr>\n",
              "    <tr>\n",
              "      <th>16773</th>\n",
              "      <td>0</td>\n",
              "      <td>1</td>\n",
              "      <td>0</td>\n",
              "      <td>0</td>\n",
              "    </tr>\n",
              "  </tbody>\n",
              "</table>\n",
              "<p>16774 rows × 4 columns</p>\n",
              "</div>"
            ],
            "text/plain": [
              "       dg  dill-dij  dis  div\n",
              "0       0         1    0    0\n",
              "1       1         0    0    0\n",
              "2       0         1    0    0\n",
              "3       0         0    1    0\n",
              "4       0         0    0    1\n",
              "...    ..       ...  ...  ...\n",
              "16769   0         1    0    0\n",
              "16770   0         1    0    0\n",
              "16771   1         0    0    0\n",
              "16772   0         1    0    0\n",
              "16773   0         1    0    0\n",
              "\n",
              "[16774 rows x 4 columns]"
            ]
          },
          "metadata": {
            "tags": []
          },
          "execution_count": 135
        }
      ]
    },
    {
      "cell_type": "code",
      "metadata": {
        "id": "ETsAJgxcLQic",
        "colab_type": "code",
        "colab": {}
      },
      "source": [
        "dummy_dia.drop(['dill-dij'],axis=1,inplace=True)\n"
      ],
      "execution_count": 136,
      "outputs": []
    },
    {
      "cell_type": "code",
      "metadata": {
        "id": "FrRquNY5MCrE",
        "colab_type": "code",
        "colab": {}
      },
      "source": [
        "data=pd.read_csv('https://analisi.transparenciacatalunya.cat/api/views/rmgc-ncpb/rows.csv?accessType=DOWNLOAD&sorting=true')\n",
        "y=data['F_VICTIMES']"
      ],
      "execution_count": 137,
      "outputs": []
    },
    {
      "cell_type": "code",
      "metadata": {
        "id": "OFg1pcAR-knY",
        "colab_type": "code",
        "colab": {
          "base_uri": "https://localhost:8080/",
          "height": 411
        },
        "outputId": "16a98267-0539-4555-9f20-8d4d281dd0c7"
      },
      "source": [
        "Z= pd.concat([dummy_clima,dummy_dia,dummy_hora], axis=1)\n",
        "\n",
        "# drop original column \"fuel-type\" from \"df\"\n",
        "Z"
      ],
      "execution_count": 139,
      "outputs": [
        {
          "output_type": "execute_result",
          "data": {
            "text/html": [
              "<div>\n",
              "<style scoped>\n",
              "    .dataframe tbody tr th:only-of-type {\n",
              "        vertical-align: middle;\n",
              "    }\n",
              "\n",
              "    .dataframe tbody tr th {\n",
              "        vertical-align: top;\n",
              "    }\n",
              "\n",
              "    .dataframe thead th {\n",
              "        text-align: right;\n",
              "    }\n",
              "</style>\n",
              "<table border=\"1\" class=\"dataframe\">\n",
              "  <thead>\n",
              "    <tr style=\"text-align: right;\">\n",
              "      <th></th>\n",
              "      <th>Calamarsa</th>\n",
              "      <th>Nevant</th>\n",
              "      <th>Pluja dèbil</th>\n",
              "      <th>Pluja forta</th>\n",
              "      <th>dg</th>\n",
              "      <th>dis</th>\n",
              "      <th>div</th>\n",
              "      <th>Nit</th>\n",
              "      <th>Tarda</th>\n",
              "    </tr>\n",
              "  </thead>\n",
              "  <tbody>\n",
              "    <tr>\n",
              "      <th>0</th>\n",
              "      <td>0</td>\n",
              "      <td>0</td>\n",
              "      <td>0</td>\n",
              "      <td>0</td>\n",
              "      <td>0</td>\n",
              "      <td>0</td>\n",
              "      <td>0</td>\n",
              "      <td>1</td>\n",
              "      <td>0</td>\n",
              "    </tr>\n",
              "    <tr>\n",
              "      <th>1</th>\n",
              "      <td>0</td>\n",
              "      <td>0</td>\n",
              "      <td>0</td>\n",
              "      <td>0</td>\n",
              "      <td>1</td>\n",
              "      <td>0</td>\n",
              "      <td>0</td>\n",
              "      <td>1</td>\n",
              "      <td>0</td>\n",
              "    </tr>\n",
              "    <tr>\n",
              "      <th>2</th>\n",
              "      <td>0</td>\n",
              "      <td>0</td>\n",
              "      <td>0</td>\n",
              "      <td>0</td>\n",
              "      <td>0</td>\n",
              "      <td>0</td>\n",
              "      <td>0</td>\n",
              "      <td>0</td>\n",
              "      <td>1</td>\n",
              "    </tr>\n",
              "    <tr>\n",
              "      <th>3</th>\n",
              "      <td>0</td>\n",
              "      <td>0</td>\n",
              "      <td>0</td>\n",
              "      <td>0</td>\n",
              "      <td>0</td>\n",
              "      <td>1</td>\n",
              "      <td>0</td>\n",
              "      <td>1</td>\n",
              "      <td>0</td>\n",
              "    </tr>\n",
              "    <tr>\n",
              "      <th>4</th>\n",
              "      <td>0</td>\n",
              "      <td>0</td>\n",
              "      <td>0</td>\n",
              "      <td>0</td>\n",
              "      <td>0</td>\n",
              "      <td>0</td>\n",
              "      <td>1</td>\n",
              "      <td>0</td>\n",
              "      <td>1</td>\n",
              "    </tr>\n",
              "    <tr>\n",
              "      <th>...</th>\n",
              "      <td>...</td>\n",
              "      <td>...</td>\n",
              "      <td>...</td>\n",
              "      <td>...</td>\n",
              "      <td>...</td>\n",
              "      <td>...</td>\n",
              "      <td>...</td>\n",
              "      <td>...</td>\n",
              "      <td>...</td>\n",
              "    </tr>\n",
              "    <tr>\n",
              "      <th>16769</th>\n",
              "      <td>0</td>\n",
              "      <td>0</td>\n",
              "      <td>0</td>\n",
              "      <td>0</td>\n",
              "      <td>0</td>\n",
              "      <td>0</td>\n",
              "      <td>0</td>\n",
              "      <td>0</td>\n",
              "      <td>0</td>\n",
              "    </tr>\n",
              "    <tr>\n",
              "      <th>16770</th>\n",
              "      <td>0</td>\n",
              "      <td>0</td>\n",
              "      <td>0</td>\n",
              "      <td>0</td>\n",
              "      <td>0</td>\n",
              "      <td>0</td>\n",
              "      <td>0</td>\n",
              "      <td>1</td>\n",
              "      <td>0</td>\n",
              "    </tr>\n",
              "    <tr>\n",
              "      <th>16771</th>\n",
              "      <td>0</td>\n",
              "      <td>0</td>\n",
              "      <td>0</td>\n",
              "      <td>0</td>\n",
              "      <td>1</td>\n",
              "      <td>0</td>\n",
              "      <td>0</td>\n",
              "      <td>0</td>\n",
              "      <td>1</td>\n",
              "    </tr>\n",
              "    <tr>\n",
              "      <th>16772</th>\n",
              "      <td>0</td>\n",
              "      <td>0</td>\n",
              "      <td>0</td>\n",
              "      <td>0</td>\n",
              "      <td>0</td>\n",
              "      <td>0</td>\n",
              "      <td>0</td>\n",
              "      <td>0</td>\n",
              "      <td>0</td>\n",
              "    </tr>\n",
              "    <tr>\n",
              "      <th>16773</th>\n",
              "      <td>0</td>\n",
              "      <td>0</td>\n",
              "      <td>0</td>\n",
              "      <td>0</td>\n",
              "      <td>0</td>\n",
              "      <td>0</td>\n",
              "      <td>0</td>\n",
              "      <td>0</td>\n",
              "      <td>0</td>\n",
              "    </tr>\n",
              "  </tbody>\n",
              "</table>\n",
              "<p>16774 rows × 9 columns</p>\n",
              "</div>"
            ],
            "text/plain": [
              "       Calamarsa  Nevant  Pluja dèbil  Pluja forta  dg  dis  div  Nit  Tarda\n",
              "0              0       0            0            0   0    0    0    1      0\n",
              "1              0       0            0            0   1    0    0    1      0\n",
              "2              0       0            0            0   0    0    0    0      1\n",
              "3              0       0            0            0   0    1    0    1      0\n",
              "4              0       0            0            0   0    0    1    0      1\n",
              "...          ...     ...          ...          ...  ..  ...  ...  ...    ...\n",
              "16769          0       0            0            0   0    0    0    0      0\n",
              "16770          0       0            0            0   0    0    0    1      0\n",
              "16771          0       0            0            0   1    0    0    0      1\n",
              "16772          0       0            0            0   0    0    0    0      0\n",
              "16773          0       0            0            0   0    0    0    0      0\n",
              "\n",
              "[16774 rows x 9 columns]"
            ]
          },
          "metadata": {
            "tags": []
          },
          "execution_count": 139
        }
      ]
    },
    {
      "cell_type": "code",
      "metadata": {
        "id": "czo7p7ZjL-JZ",
        "colab_type": "code",
        "colab": {
          "base_uri": "https://localhost:8080/",
          "height": 35
        },
        "outputId": "acdadc65-edef-4070-b5c2-ce0653b2121a"
      },
      "source": [
        "lm.fit(Z, y)"
      ],
      "execution_count": 140,
      "outputs": [
        {
          "output_type": "execute_result",
          "data": {
            "text/plain": [
              "LinearRegression(copy_X=True, fit_intercept=True, n_jobs=None, normalize=False)"
            ]
          },
          "metadata": {
            "tags": []
          },
          "execution_count": 140
        }
      ]
    },
    {
      "cell_type": "code",
      "metadata": {
        "id": "H1rN7bU6NNxR",
        "colab_type": "code",
        "colab": {
          "base_uri": "https://localhost:8080/",
          "height": 35
        },
        "outputId": "62eba26d-78af-49fe-ace9-9f1aaa87b518"
      },
      "source": [
        "lm.score(Z, y)"
      ],
      "execution_count": 141,
      "outputs": [
        {
          "output_type": "execute_result",
          "data": {
            "text/plain": [
              "0.02149025732509935"
            ]
          },
          "metadata": {
            "tags": []
          },
          "execution_count": 141
        }
      ]
    },
    {
      "cell_type": "code",
      "metadata": {
        "id": "wmdBB_9PNpt-",
        "colab_type": "code",
        "colab": {
          "base_uri": "https://localhost:8080/",
          "height": 35
        },
        "outputId": "12f5675e-8bb6-424b-b5fb-4727f0011da7"
      },
      "source": [
        "lm.intercept_"
      ],
      "execution_count": 142,
      "outputs": [
        {
          "output_type": "execute_result",
          "data": {
            "text/plain": [
              "1.379673714816478"
            ]
          },
          "metadata": {
            "tags": []
          },
          "execution_count": 142
        }
      ]
    },
    {
      "cell_type": "code",
      "metadata": {
        "id": "eSqdMTiANzz7",
        "colab_type": "code",
        "colab": {
          "base_uri": "https://localhost:8080/",
          "height": 52
        },
        "outputId": "ec1d7c90-100b-4147-c3cf-2d56be38c31f"
      },
      "source": [
        "lm.coef_"
      ],
      "execution_count": 143,
      "outputs": [
        {
          "output_type": "execute_result",
          "data": {
            "text/plain": [
              "array([2.05803956, 0.38042372, 0.25383474, 0.38031421, 0.37995285,\n",
              "       0.23994064, 0.03406838, 0.21569835, 0.07322321])"
            ]
          },
          "metadata": {
            "tags": []
          },
          "execution_count": 143
        }
      ]
    },
    {
      "cell_type": "code",
      "metadata": {
        "id": "pYLQvl87i-Nv",
        "colab_type": "code",
        "colab": {
          "base_uri": "https://localhost:8080/",
          "height": 52
        },
        "outputId": "fe484514-fc3b-46b2-ce52-9c53e1eac1cb"
      },
      "source": [
        "y_hat = lm.predict(Z)\n",
        "y_hat"
      ],
      "execution_count": 146,
      "outputs": [
        {
          "output_type": "execute_result",
          "data": {
            "text/plain": [
              "array([1.59537207, 1.97532491, 1.45289692, ..., 1.83284977, 1.37967371,\n",
              "       1.37967371])"
            ]
          },
          "metadata": {
            "tags": []
          },
          "execution_count": 146
        }
      ]
    },
    {
      "cell_type": "code",
      "metadata": {
        "id": "dWfOTsj0jFO2",
        "colab_type": "code",
        "colab": {
          "base_uri": "https://localhost:8080/",
          "height": 644
        },
        "outputId": "0b110d9e-14cd-434b-aa18-037e21ac47b2"
      },
      "source": [
        "width=10\n",
        "height=10\n",
        "\n",
        "plt.figure(figsize=(width, height))\n",
        "\n",
        "\n",
        "ax1 = sns.distplot(y, hist=False, color=\"r\", label=\"Actual Value\")\n",
        "sns.distplot(y_hat, hist=False, color=\"b\", label=\"Fitted Values\" , ax=ax1)\n",
        "\n",
        "plt.title('Actual vs Fitted Values for VICTIMES')"
      ],
      "execution_count": 147,
      "outputs": [
        {
          "output_type": "execute_result",
          "data": {
            "text/plain": [
              "Text(0.5, 1.0, 'Actual vs Fitted Values for VICTIMES')"
            ]
          },
          "metadata": {
            "tags": []
          },
          "execution_count": 147
        },
        {
          "output_type": "display_data",
          "data": {
            "image/png": "[encoded data removed]",
            "text/plain": [
              "<Figure size 720x720 with 1 Axes>"
            ]
          },
          "metadata": {
            "tags": []
          }
        }
      ]
    },
    {
      "cell_type": "code",
      "metadata": {
        "id": "AWq15r_kjtRo",
        "colab_type": "code",
        "colab": {
          "base_uri": "https://localhost:8080/",
          "height": 411
        },
        "outputId": "aa154da2-e1c1-46e4-c0ca-ead2935a4d37"
      },
      "source": [
        "yZ= pd.concat([y,Z], axis=1)\n",
        "yZ"
      ],
      "execution_count": 152,
      "outputs": [
        {
          "output_type": "execute_result",
          "data": {
            "text/html": [
              "<div>\n",
              "<style scoped>\n",
              "    .dataframe tbody tr th:only-of-type {\n",
              "        vertical-align: middle;\n",
              "    }\n",
              "\n",
              "    .dataframe tbody tr th {\n",
              "        vertical-align: top;\n",
              "    }\n",
              "\n",
              "    .dataframe thead th {\n",
              "        text-align: right;\n",
              "    }\n",
              "</style>\n",
              "<table border=\"1\" class=\"dataframe\">\n",
              "  <thead>\n",
              "    <tr style=\"text-align: right;\">\n",
              "      <th></th>\n",
              "      <th>F_VICTIMES</th>\n",
              "      <th>Calamarsa</th>\n",
              "      <th>Nevant</th>\n",
              "      <th>Pluja dèbil</th>\n",
              "      <th>Pluja forta</th>\n",
              "      <th>dg</th>\n",
              "      <th>dis</th>\n",
              "      <th>div</th>\n",
              "      <th>Nit</th>\n",
              "      <th>Tarda</th>\n",
              "    </tr>\n",
              "  </thead>\n",
              "  <tbody>\n",
              "    <tr>\n",
              "      <th>0</th>\n",
              "      <td>1</td>\n",
              "      <td>0</td>\n",
              "      <td>0</td>\n",
              "      <td>0</td>\n",
              "      <td>0</td>\n",
              "      <td>0</td>\n",
              "      <td>0</td>\n",
              "      <td>0</td>\n",
              "      <td>1</td>\n",
              "      <td>0</td>\n",
              "    </tr>\n",
              "    <tr>\n",
              "      <th>1</th>\n",
              "      <td>4</td>\n",
              "      <td>0</td>\n",
              "      <td>0</td>\n",
              "      <td>0</td>\n",
              "      <td>0</td>\n",
              "      <td>1</td>\n",
              "      <td>0</td>\n",
              "      <td>0</td>\n",
              "      <td>1</td>\n",
              "      <td>0</td>\n",
              "    </tr>\n",
              "    <tr>\n",
              "      <th>2</th>\n",
              "      <td>3</td>\n",
              "      <td>0</td>\n",
              "      <td>0</td>\n",
              "      <td>0</td>\n",
              "      <td>0</td>\n",
              "      <td>0</td>\n",
              "      <td>0</td>\n",
              "      <td>0</td>\n",
              "      <td>0</td>\n",
              "      <td>1</td>\n",
              "    </tr>\n",
              "    <tr>\n",
              "      <th>3</th>\n",
              "      <td>9</td>\n",
              "      <td>0</td>\n",
              "      <td>0</td>\n",
              "      <td>0</td>\n",
              "      <td>0</td>\n",
              "      <td>0</td>\n",
              "      <td>1</td>\n",
              "      <td>0</td>\n",
              "      <td>1</td>\n",
              "      <td>0</td>\n",
              "    </tr>\n",
              "    <tr>\n",
              "      <th>4</th>\n",
              "      <td>1</td>\n",
              "      <td>0</td>\n",
              "      <td>0</td>\n",
              "      <td>0</td>\n",
              "      <td>0</td>\n",
              "      <td>0</td>\n",
              "      <td>0</td>\n",
              "      <td>1</td>\n",
              "      <td>0</td>\n",
              "      <td>1</td>\n",
              "    </tr>\n",
              "    <tr>\n",
              "      <th>...</th>\n",
              "      <td>...</td>\n",
              "      <td>...</td>\n",
              "      <td>...</td>\n",
              "      <td>...</td>\n",
              "      <td>...</td>\n",
              "      <td>...</td>\n",
              "      <td>...</td>\n",
              "      <td>...</td>\n",
              "      <td>...</td>\n",
              "      <td>...</td>\n",
              "    </tr>\n",
              "    <tr>\n",
              "      <th>16769</th>\n",
              "      <td>2</td>\n",
              "      <td>0</td>\n",
              "      <td>0</td>\n",
              "      <td>0</td>\n",
              "      <td>0</td>\n",
              "      <td>0</td>\n",
              "      <td>0</td>\n",
              "      <td>0</td>\n",
              "      <td>0</td>\n",
              "      <td>0</td>\n",
              "    </tr>\n",
              "    <tr>\n",
              "      <th>16770</th>\n",
              "      <td>1</td>\n",
              "      <td>0</td>\n",
              "      <td>0</td>\n",
              "      <td>0</td>\n",
              "      <td>0</td>\n",
              "      <td>0</td>\n",
              "      <td>0</td>\n",
              "      <td>0</td>\n",
              "      <td>1</td>\n",
              "      <td>0</td>\n",
              "    </tr>\n",
              "    <tr>\n",
              "      <th>16771</th>\n",
              "      <td>1</td>\n",
              "      <td>0</td>\n",
              "      <td>0</td>\n",
              "      <td>0</td>\n",
              "      <td>0</td>\n",
              "      <td>1</td>\n",
              "      <td>0</td>\n",
              "      <td>0</td>\n",
              "      <td>0</td>\n",
              "      <td>1</td>\n",
              "    </tr>\n",
              "    <tr>\n",
              "      <th>16772</th>\n",
              "      <td>1</td>\n",
              "      <td>0</td>\n",
              "      <td>0</td>\n",
              "      <td>0</td>\n",
              "      <td>0</td>\n",
              "      <td>0</td>\n",
              "      <td>0</td>\n",
              "      <td>0</td>\n",
              "      <td>0</td>\n",
              "      <td>0</td>\n",
              "    </tr>\n",
              "    <tr>\n",
              "      <th>16773</th>\n",
              "      <td>1</td>\n",
              "      <td>0</td>\n",
              "      <td>0</td>\n",
              "      <td>0</td>\n",
              "      <td>0</td>\n",
              "      <td>0</td>\n",
              "      <td>0</td>\n",
              "      <td>0</td>\n",
              "      <td>0</td>\n",
              "      <td>0</td>\n",
              "    </tr>\n",
              "  </tbody>\n",
              "</table>\n",
              "<p>16774 rows × 10 columns</p>\n",
              "</div>"
            ],
            "text/plain": [
              "       F_VICTIMES  Calamarsa  Nevant  Pluja dèbil  ...  dis  div  Nit  Tarda\n",
              "0               1          0       0            0  ...    0    0    1      0\n",
              "1               4          0       0            0  ...    0    0    1      0\n",
              "2               3          0       0            0  ...    0    0    0      1\n",
              "3               9          0       0            0  ...    1    0    1      0\n",
              "4               1          0       0            0  ...    0    1    0      1\n",
              "...           ...        ...     ...          ...  ...  ...  ...  ...    ...\n",
              "16769           2          0       0            0  ...    0    0    0      0\n",
              "16770           1          0       0            0  ...    0    0    1      0\n",
              "16771           1          0       0            0  ...    0    0    0      1\n",
              "16772           1          0       0            0  ...    0    0    0      0\n",
              "16773           1          0       0            0  ...    0    0    0      0\n",
              "\n",
              "[16774 rows x 10 columns]"
            ]
          },
          "metadata": {
            "tags": []
          },
          "execution_count": 152
        }
      ]
    },
    {
      "cell_type": "code",
      "metadata": {
        "id": "nZFy6MQpjJW1",
        "colab_type": "code",
        "colab": {
          "base_uri": "https://localhost:8080/",
          "height": 352
        },
        "outputId": "13351f83-4f1d-424b-9f2f-23ed69873fd4"
      },
      "source": [
        "yZ.corr()"
      ],
      "execution_count": 149,
      "outputs": [
        {
          "output_type": "execute_result",
          "data": {
            "text/html": [
              "<div>\n",
              "<style scoped>\n",
              "    .dataframe tbody tr th:only-of-type {\n",
              "        vertical-align: middle;\n",
              "    }\n",
              "\n",
              "    .dataframe tbody tr th {\n",
              "        vertical-align: top;\n",
              "    }\n",
              "\n",
              "    .dataframe thead th {\n",
              "        text-align: right;\n",
              "    }\n",
              "</style>\n",
              "<table border=\"1\" class=\"dataframe\">\n",
              "  <thead>\n",
              "    <tr style=\"text-align: right;\">\n",
              "      <th></th>\n",
              "      <th>F_VICTIMES</th>\n",
              "      <th>Calamarsa</th>\n",
              "      <th>Nevant</th>\n",
              "      <th>Pluja dèbil</th>\n",
              "      <th>Pluja forta</th>\n",
              "      <th>dg</th>\n",
              "      <th>dis</th>\n",
              "      <th>div</th>\n",
              "      <th>Nit</th>\n",
              "      <th>Tarda</th>\n",
              "    </tr>\n",
              "  </thead>\n",
              "  <tbody>\n",
              "    <tr>\n",
              "      <th>F_VICTIMES</th>\n",
              "      <td>1.000000</td>\n",
              "      <td>0.037920</td>\n",
              "      <td>0.005783</td>\n",
              "      <td>0.042540</td>\n",
              "      <td>0.035777</td>\n",
              "      <td>0.094468</td>\n",
              "      <td>0.052799</td>\n",
              "      <td>-0.021583</td>\n",
              "      <td>0.057929</td>\n",
              "      <td>0.000815</td>\n",
              "    </tr>\n",
              "    <tr>\n",
              "      <th>Calamarsa</th>\n",
              "      <td>0.037920</td>\n",
              "      <td>1.000000</td>\n",
              "      <td>-0.000506</td>\n",
              "      <td>-0.004999</td>\n",
              "      <td>-0.002689</td>\n",
              "      <td>-0.009266</td>\n",
              "      <td>0.004845</td>\n",
              "      <td>0.004002</td>\n",
              "      <td>-0.008532</td>\n",
              "      <td>0.014365</td>\n",
              "    </tr>\n",
              "    <tr>\n",
              "      <th>Nevant</th>\n",
              "      <td>0.005783</td>\n",
              "      <td>-0.000506</td>\n",
              "      <td>1.000000</td>\n",
              "      <td>-0.004713</td>\n",
              "      <td>-0.002536</td>\n",
              "      <td>-0.008736</td>\n",
              "      <td>0.006277</td>\n",
              "      <td>-0.009500</td>\n",
              "      <td>-0.008044</td>\n",
              "      <td>0.012327</td>\n",
              "    </tr>\n",
              "    <tr>\n",
              "      <th>Pluja dèbil</th>\n",
              "      <td>0.042540</td>\n",
              "      <td>-0.004999</td>\n",
              "      <td>-0.004713</td>\n",
              "      <td>1.000000</td>\n",
              "      <td>-0.025042</td>\n",
              "      <td>0.000111</td>\n",
              "      <td>0.000502</td>\n",
              "      <td>-0.009216</td>\n",
              "      <td>0.018657</td>\n",
              "      <td>-0.002567</td>\n",
              "    </tr>\n",
              "    <tr>\n",
              "      <th>Pluja forta</th>\n",
              "      <td>0.035777</td>\n",
              "      <td>-0.002689</td>\n",
              "      <td>-0.002536</td>\n",
              "      <td>-0.025042</td>\n",
              "      <td>1.000000</td>\n",
              "      <td>0.003397</td>\n",
              "      <td>0.007335</td>\n",
              "      <td>-0.013477</td>\n",
              "      <td>-0.001009</td>\n",
              "      <td>0.024561</td>\n",
              "    </tr>\n",
              "    <tr>\n",
              "      <th>dg</th>\n",
              "      <td>0.094468</td>\n",
              "      <td>-0.009266</td>\n",
              "      <td>-0.008736</td>\n",
              "      <td>0.000111</td>\n",
              "      <td>0.003397</td>\n",
              "      <td>1.000000</td>\n",
              "      <td>-0.166664</td>\n",
              "      <td>-0.173932</td>\n",
              "      <td>0.054283</td>\n",
              "      <td>-0.064248</td>\n",
              "    </tr>\n",
              "    <tr>\n",
              "      <th>dis</th>\n",
              "      <td>0.052799</td>\n",
              "      <td>0.004845</td>\n",
              "      <td>0.006277</td>\n",
              "      <td>0.000502</td>\n",
              "      <td>0.007335</td>\n",
              "      <td>-0.166664</td>\n",
              "      <td>1.000000</td>\n",
              "      <td>-0.181236</td>\n",
              "      <td>0.071775</td>\n",
              "      <td>-0.056722</td>\n",
              "    </tr>\n",
              "    <tr>\n",
              "      <th>div</th>\n",
              "      <td>-0.021583</td>\n",
              "      <td>0.004002</td>\n",
              "      <td>-0.009500</td>\n",
              "      <td>-0.009216</td>\n",
              "      <td>-0.013477</td>\n",
              "      <td>-0.173932</td>\n",
              "      <td>-0.181236</td>\n",
              "      <td>1.000000</td>\n",
              "      <td>-0.002809</td>\n",
              "      <td>0.013164</td>\n",
              "    </tr>\n",
              "    <tr>\n",
              "      <th>Nit</th>\n",
              "      <td>0.057929</td>\n",
              "      <td>-0.008532</td>\n",
              "      <td>-0.008044</td>\n",
              "      <td>0.018657</td>\n",
              "      <td>-0.001009</td>\n",
              "      <td>0.054283</td>\n",
              "      <td>0.071775</td>\n",
              "      <td>-0.002809</td>\n",
              "      <td>1.000000</td>\n",
              "      <td>-0.345664</td>\n",
              "    </tr>\n",
              "    <tr>\n",
              "      <th>Tarda</th>\n",
              "      <td>0.000815</td>\n",
              "      <td>0.014365</td>\n",
              "      <td>0.012327</td>\n",
              "      <td>-0.002567</td>\n",
              "      <td>0.024561</td>\n",
              "      <td>-0.064248</td>\n",
              "      <td>-0.056722</td>\n",
              "      <td>0.013164</td>\n",
              "      <td>-0.345664</td>\n",
              "      <td>1.000000</td>\n",
              "    </tr>\n",
              "  </tbody>\n",
              "</table>\n",
              "</div>"
            ],
            "text/plain": [
              "             F_VICTIMES  Calamarsa    Nevant  ...       div       Nit     Tarda\n",
              "F_VICTIMES     1.000000   0.037920  0.005783  ... -0.021583  0.057929  0.000815\n",
              "Calamarsa      0.037920   1.000000 -0.000506  ...  0.004002 -0.008532  0.014365\n",
              "Nevant         0.005783  -0.000506  1.000000  ... -0.009500 -0.008044  0.012327\n",
              "Pluja dèbil    0.042540  -0.004999 -0.004713  ... -0.009216  0.018657 -0.002567\n",
              "Pluja forta    0.035777  -0.002689 -0.002536  ... -0.013477 -0.001009  0.024561\n",
              "dg             0.094468  -0.009266 -0.008736  ... -0.173932  0.054283 -0.064248\n",
              "dis            0.052799   0.004845  0.006277  ... -0.181236  0.071775 -0.056722\n",
              "div           -0.021583   0.004002 -0.009500  ...  1.000000 -0.002809  0.013164\n",
              "Nit            0.057929  -0.008532 -0.008044  ... -0.002809  1.000000 -0.345664\n",
              "Tarda          0.000815   0.014365  0.012327  ...  0.013164 -0.345664  1.000000\n",
              "\n",
              "[10 rows x 10 columns]"
            ]
          },
          "metadata": {
            "tags": []
          },
          "execution_count": 149
        }
      ]
    },
    {
      "cell_type": "code",
      "metadata": {
        "id": "9J1SWLPojPhA",
        "colab_type": "code",
        "colab": {
          "base_uri": "https://localhost:8080/",
          "height": 326
        },
        "outputId": "82aef881-360a-4bfd-84b3-76af36b75e6f"
      },
      "source": [
        "ax = sns.heatmap(yZ.corr(),cmap='RdYlBu')\n"
      ],
      "execution_count": 150,
      "outputs": [
        {
          "output_type": "display_data",
          "data": {
            "image/png": "[encoded data removed]",
            "text/plain": [
              "<Figure size 432x288 with 2 Axes>"
            ]
          },
          "metadata": {
            "tags": []
          }
        }
      ]
    },
    {
      "cell_type": "markdown",
      "metadata": {
        "id": "dcQsPyi3mLWb",
        "colab_type": "text"
      },
      "source": [
        "#Conclusion: None of the variables, neither categorical nor numerical, has a sufficiently large correlation for an adjustment to be made that can explain the variable \"F_VICTIMAS\". I believe that accidents in Catalonia with the data I have at my disposal occur in a random manner.\n",
        "\n",
        "#I point out different problems:\n",
        "#1) \"F_VICTIMAS\" is a discrete variable and has few possible different values.\n",
        "#2) \"F_VICTIMAS\" cannot be considered a normal distribution.\n",
        "#3) Insufficient data"
      ]
    }
  ]
}