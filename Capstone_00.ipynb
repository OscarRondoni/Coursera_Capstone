{
  "nbformat": 4,
  "nbformat_minor": 0,
  "metadata": {
    "colab": {
      "name": "Capstone_00.ipynb",
      "provenance": [],
      "authorship_tag": "ABX9TyOZznKKkmfn2p/lmR27Lh82",
      "include_colab_link": true
    },
    "kernelspec": {
      "name": "python3",
      "display_name": "Python 3"
    }
  },
  "cells": [
    {
      "cell_type": "markdown",
      "metadata": {
        "id": "view-in-github",
        "colab_type": "text"
      },
      "source": [
        "<a href=\"https://colab.research.google.com/github/OscarRondoni/Coursera_Capstone/blob/master/Capstone_00.ipynb\" target=\"_parent\"><img src=\"https://colab.research.google.com/assets/colab-badge.svg\" alt=\"Open In Colab\"/></a>"
      ]
    },
    {
      "cell_type": "markdown",
      "metadata": {
        "id": "qBlfL0rPXIb0",
        "colab_type": "text"
      },
      "source": [
        "# This notebook will be mainly used for the capstone project. "
      ]
    },
    {
      "cell_type": "code",
      "metadata": {
        "id": "M6eMsmi7XBga",
        "colab_type": "code",
        "colab": {
          "base_uri": "https://localhost:8080/",
          "height": 35
        },
        "outputId": "d4a188cf-0205-4b16-e78b-1ad764fd1539"
      },
      "source": [
        "import numpy as np\n",
        "import pandas as pd\n",
        "print('Hello Capstone Project Course!')  "
      ],
      "execution_count": 6,
      "outputs": [
        {
          "output_type": "stream",
          "text": [
            "Hello Capstone Project Course!\n"
          ],
          "name": "stdout"
        }
      ]
    }
  ]
}